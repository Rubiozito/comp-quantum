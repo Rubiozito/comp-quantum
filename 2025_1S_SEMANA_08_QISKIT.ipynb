{
 "cells": [
  {
   "cell_type": "markdown",
   "id": "a0f9fc65",
   "metadata": {},
   "source": [
    "<img src= \"https://maua.br/images/logo-IMT.png\" width=250>"
   ]
  },
  {
   "cell_type": "markdown",
   "id": "cf4b175c",
   "metadata": {},
   "source": [
    "#  <center> <font color=#023e8a>  ECM797: Introdução à Computação Quântica  <center>\n",
    " <center> Prof. Sandro Martini <center>\n",
    "\n",
    "## <center>  Semana 07: Qiskit - Instalação e Testes"
   ]
  },
  {
   "cell_type": "markdown",
   "id": "edccda02",
   "metadata": {},
   "source": [
    "## Nome: Rafael Rubio\n",
    "### RA: 20.00611-0"
   ]
  },
  {
   "cell_type": "markdown",
   "id": "401c1d27",
   "metadata": {},
   "source": [
    "## Créditos e reconhecimento\n",
    "\n",
    "Este material didático foi desenvolvido com base nos recursos fornecidos pelo [Qiskit](https://www.ibm.com/quantum/qiskit) , uma iniciativa da IBM para promover e facilitar a educação e a pesquisa em computação quântica. **O Qiskit é um framework de código aberto dedicado à computação quântica, e visa fornecer ferramentas acessíveis para profissionais, pesquisadores e estudantes interessados nesta área inovadora de estudo.**\n",
    "\n",
    "Ao longo deste curso, utilizaremos exemplos, exercícios e metodologias adaptadas dos materiais disponíveis publicamente no Qiskit, traduzidos e modificados para melhor atender às necessidades do curso. Esta iniciativa não seria possível sem os valiosos recursos disponibilizados pela equipe do Qiskit e pela IBM.\n",
    "\n",
    "Encorajamos todos os alunos a explorarem o [site oficial do Qiskit](https://www.ibm.com/quantum/qiskit) e a se engajarem com a vasta gama de materiais educacionais, tutoriais e documentações oferecidos, para aprofundar seus conhecimentos e habilidades em computação quântica."
   ]
  },
  {
   "cell_type": "markdown",
   "id": "02fd0026",
   "metadata": {},
   "source": [
    "## Instruções iniciais:\n",
    "\n",
    "1. <span style=\"color: red;\">**Leia TODO o notebook e realize as tarefas indicadas**</span>;\n",
    "2. Quando tiver terminado, envie esse próprio arquivo com as atividades realizadas.\n",
    "3. O laboratório é um momento de independência para que você possa aprender de forma autônoma. Por isso leia atentamente as instruções, discuta com os colegas os exercícios, os códigos e as soluções. \n",
    "   \n",
    "\n"
   ]
  },
  {
   "cell_type": "markdown",
   "id": "3d41bd72",
   "metadata": {},
   "source": [
    "## Objetivos:"
   ]
  },
  {
   "cell_type": "markdown",
   "id": "260af190",
   "metadata": {},
   "source": [
    "-  Instalar o Qiskit.\n",
    "-  Testar e realizar algumas simulações."
   ]
  },
  {
   "cell_type": "markdown",
   "id": "a76feb5a",
   "metadata": {},
   "source": [
    "## Instalando o Qiskit"
   ]
  },
  {
   "cell_type": "markdown",
   "id": "e12c40e2",
   "metadata": {},
   "source": [
    "Instale o SDK do Qiskit e o cliente do Qiskit Runtime."
   ]
  },
  {
   "cell_type": "code",
   "execution_count": null,
   "id": "72eea09f",
   "metadata": {},
   "outputs": [],
   "source": [
    "pip install qiskit"
   ]
  },
  {
   "cell_type": "code",
   "execution_count": null,
   "id": "ac0cbe5a",
   "metadata": {},
   "outputs": [],
   "source": [
    "pip install qiskit-ibm-runtime"
   ]
  },
  {
   "cell_type": "markdown",
   "id": "14406471",
   "metadata": {},
   "source": [
    "Para usar as funcionalidades de visualização é recomendado instalar um suporte adicional para visualização."
   ]
  },
  {
   "cell_type": "code",
   "execution_count": null,
   "id": "fed876e3",
   "metadata": {},
   "outputs": [],
   "source": [
    "pip install qiskit[visualization]"
   ]
  },
  {
   "cell_type": "code",
   "execution_count": null,
   "id": "4202a24f",
   "metadata": {},
   "outputs": [],
   "source": [
    "pip install --upgrade pydantic"
   ]
  },
  {
   "cell_type": "markdown",
   "id": "038b4d07",
   "metadata": {},
   "source": [
    "<span style=\"color: red;\">**Depois dos pacotes instalados, vá em `Kernel` e clique em `Restart & Clean Output`**</span>"
   ]
  },
  {
   "cell_type": "markdown",
   "id": "4ebc93c2",
   "metadata": {},
   "source": [
    "## Exemplos do Qiskit"
   ]
  },
  {
   "cell_type": "markdown",
   "id": "c9a744ef",
   "metadata": {},
   "source": [
    "### Vetores e Matrizes"
   ]
  },
  {
   "cell_type": "markdown",
   "id": "691b5d3a",
   "metadata": {},
   "source": [
    "O Qiskit utiliza a linguagem de programação Python. Em Python, as operações com matrizes e vetores podem ser realizadas usando a classe de `array` da biblioteca `NumPy`.\n",
    "\n",
    "Aqui está um exemplo de uma célula de código que define dois vetores, `ket0` e `ket1`, correspondentes aos vetores de estado do qubit ∣0⟩ e ∣1⟩, e exibe sua média."
   ]
  },
  {
   "cell_type": "code",
   "execution_count": null,
   "id": "6f14822f",
   "metadata": {},
   "outputs": [],
   "source": [
    "from numpy import array\n",
    "\n",
    "ket0 = array([1, 0])\n",
    "ket1 = array([0, 1])\n",
    "\n",
    "display(ket0 / 2 + ket1 / 2)"
   ]
  },
  {
   "cell_type": "markdown",
   "id": "2730d82b",
   "metadata": {},
   "source": [
    "É importante destacar que executar células de código sequencialmente em um notebook tem um efeito cumulativo, ou seja, não é necessário recarregar a classe `array` ou definir `ket0` e `ket1` novamente. Recarregar a página ou mudar para outra página, no entanto, resetará tudo para o estado inicial.\n",
    "\n",
    "Como uma orientação geral, espera-se que as células de código dentro de cada subseção do notebook sejam executadas sequencialmente. Portanto, se a execução de uma célula de código gerar um erro, certifique-se de primeiro executar todas as células de código anteriores dentro da subseção em que essa célula de código aparece.\n",
    "\n",
    "Também podemos usar `array` para criar matrizes que representam operações."
   ]
  },
  {
   "cell_type": "code",
   "execution_count": null,
   "id": "b27a0777",
   "metadata": {},
   "outputs": [],
   "source": [
    "M1 = array([[1, 1], [0, 0]])\n",
    "M2 = array([[1, 1], [1, 0]])\n",
    "\n",
    "M1 / 2 + M2 / 2"
   ]
  },
  {
   "cell_type": "markdown",
   "id": "af69474a",
   "metadata": {},
   "source": [
    "A multiplicação de matrizes pode ser realizada usando a função `matmul` do NumPy:"
   ]
  },
  {
   "cell_type": "code",
   "execution_count": null,
   "id": "884e5acd",
   "metadata": {},
   "outputs": [],
   "source": [
    "from numpy import matmul\n",
    "\n",
    "display(matmul(M1, M2))\n",
    "display(matmul(M2, M1))"
   ]
  },
  {
   "cell_type": "markdown",
   "id": "9ab0c045",
   "metadata": {},
   "source": [
    "Na multiplicação de uma matriz por um vetor no contexto da álgebra linear,  e consequentemente na operação `matmul` do NumPy, o vetor é tratado como uma matriz coluna. Mesmo que o vetor seja fornecido como um array unidimensional (por exemplo, `ket0 = array([1, 0])`, na operação de multiplicação de matrizes, ele é conceitualmente considerado como uma matriz coluna (neste caso, 2×1)."
   ]
  },
  {
   "cell_type": "code",
   "execution_count": null,
   "id": "a6293000",
   "metadata": {},
   "outputs": [],
   "source": [
    "display(matmul(M1, ket1))"
   ]
  },
  {
   "cell_type": "markdown",
   "id": "0e34018b",
   "metadata": {},
   "source": [
    "<div class=\"alert alert-success\"> <strong> &#x1F4DD; Atividade 1: </strong>  \n",
    "\n",
    "Considere as matrizes *A* e *B* abaixo. Calcule o produto *AB*.\n",
    "\n",
    "$$\n",
    "A = \\begin{pmatrix} 2 & 4 \\\\ 3 & 1 \\end{pmatrix}\n",
    "$$\n",
    "\n",
    "$$\n",
    "B = \\begin{pmatrix} 1 & 3 \\\\ 2 & 0 \\end{pmatrix}\n",
    "$$\n",
    "\n",
    "\n",
    "</div>"
   ]
  },
  {
   "cell_type": "code",
   "execution_count": null,
   "id": "8d47aaeb",
   "metadata": {},
   "outputs": [],
   "source": [
    "#coloque seu código aqui\n",
    "matriz_a = array([[2, 4], [3, 1]])\n",
    "matriz_b = array([[1, 3], [2, 0]])\n",
    "\n",
    "display(matmul(matriz_a, matriz_b))"
   ]
  },
  {
   "cell_type": "markdown",
   "id": "24d83411",
   "metadata": {},
   "source": [
    "<div class=\"alert alert-success\"> <strong> &#x1F4DD; Atividade 2: </strong>  \n",
    "\n",
    "Considere as matrizes *C* e *D* abaixo. Calcule o produto *CD*.\n",
    "\n",
    "$$\n",
    "C = \\begin{pmatrix} -1 & 2 & 0 \\\\ 3 & 0 & 1 \\end{pmatrix}\n",
    "$$\n",
    "\n",
    "$$\n",
    "D = \\begin{pmatrix} 3 & 1 \\\\ 2 & -2 \\\\ 0 & 4 \\end{pmatrix}\n",
    "$$"
   ]
  },
  {
   "cell_type": "code",
   "execution_count": null,
   "id": "e00cdca8",
   "metadata": {},
   "outputs": [],
   "source": [
    "#coloque seu código aqui\n",
    "matriz_c = array([[-1, 2, 0], [3, 0, 1]])\n",
    "matriz_d = array([[3, 1], [2, -2], [0, 4]])\n",
    "\n",
    "display(matmul(matriz_c, matriz_d))"
   ]
  },
  {
   "cell_type": "markdown",
   "id": "dd413b35",
   "metadata": {},
   "source": [
    "### Estados, medições e operações"
   ]
  },
  {
   "cell_type": "markdown",
   "id": "6aa1b4d0",
   "metadata": {},
   "source": [
    "\n",
    "O Qiskit inclui várias classes que permitem que estados, medições e operações sejam facilmente criados e manipulados. Alguns exemplos para começar são incluídos abaixo."
   ]
  },
  {
   "cell_type": "markdown",
   "id": "588e4b6b",
   "metadata": {},
   "source": [
    "#### Definindo e exibindo vetores de estado"
   ]
  },
  {
   "cell_type": "markdown",
   "id": "495c77ea",
   "metadata": {},
   "source": [
    "A classe `Statevector` do Qiskit oferece funcionalidades para definir e manipular vetores de estado quântico. A seguinte célula de código importa a classe Statevector e define alguns vetores usando-a. (Observe que precisamos da função sqrt da biblioteca NumPy para calcular as raízes quadradas para o vetor u.)\n"
   ]
  },
  {
   "cell_type": "code",
   "execution_count": null,
   "id": "1ddcc64d",
   "metadata": {},
   "outputs": [],
   "source": [
    "from qiskit.quantum_info import Statevector\n",
    "from numpy import sqrt\n",
    "\n",
    "u = Statevector([1 / sqrt(2), 1 / sqrt(2)])\n",
    "v = Statevector([(1 + 2.0j) / 3, -2 / 3])\n",
    "w = Statevector([1 / 3, 2 / 3])\n",
    "\n",
    "print(\"State vectors u, v, and w have been defined.\")"
   ]
  },
  {
   "cell_type": "markdown",
   "id": "35740b9f",
   "metadata": {},
   "source": [
    "A classe `Statevector` oferece um comando `draw` para exibir vetores de estado, incluindo opções de latex e texto para diferentes visualizações, como demonstra a célula de código a seguir:"
   ]
  },
  {
   "cell_type": "code",
   "execution_count": null,
   "id": "54899d92",
   "metadata": {},
   "outputs": [],
   "source": [
    "display(u.draw(\"latex\"))\n",
    "display(u.draw(\"text\"))\n",
    "display(v.draw(\"latex\"))\n",
    "display(v.draw(\"text\"))\n",
    "display(w.draw(\"latex\"))\n",
    "display(w.draw(\"text\"))"
   ]
  },
  {
   "cell_type": "markdown",
   "id": "aec04deb",
   "metadata": {},
   "source": [
    "A classe `Statevector` também inclui o método `is_valid`, que verifica se um dado vetor é um vetor de estado quântico válido (ou seja, se tem uma norma euclidiana igual a 1):"
   ]
  },
  {
   "cell_type": "code",
   "execution_count": null,
   "id": "6048d425",
   "metadata": {},
   "outputs": [],
   "source": [
    "display(u.is_valid())\n",
    "display(v.is_valid())\n",
    "display(w.is_valid())"
   ]
  },
  {
   "cell_type": "markdown",
   "id": "7195db65",
   "metadata": {},
   "source": [
    "<div class=\"alert alert-success\"> <strong> &#x1F4DD; Atividade 3: </strong>  \n",
    "\n",
    "Dado o seguinte estado quântico:\n",
    "\n",
    "$$\n",
    " | \\phi \\rangle \\ = \\frac{1}{\\sqrt{3}} | 0 \\rangle \\ + \\sqrt{2}i| 1 \\rangle\n",
    "$$\n",
    "\n",
    "A apresente o vetor no formato latex e verifique se ele está normalizado ou não."
   ]
  },
  {
   "cell_type": "code",
   "execution_count": null,
   "id": "ee037f3c",
   "metadata": {},
   "outputs": [],
   "source": [
    "#coloque seu código aqui\n",
    "vet_a = Statevector([1 / sqrt(3), sqrt(2.0j)])\n",
    "\n",
    "display(vet_a.draw(\"latex\"))\n",
    "display(vet_a.is_valid())"
   ]
  },
  {
   "cell_type": "markdown",
   "id": "0ec29ba5",
   "metadata": {},
   "source": [
    "#### Simulando medições usando `Statevector`"
   ]
  },
  {
   "cell_type": "markdown",
   "id": "4dce4b29",
   "metadata": {},
   "source": [
    "Em seguida, veremos uma maneira pela qual as medições de estados quânticos podem ser simuladas no Qiskit, usando o método `measure` da classe `Statevector`.\n",
    "\n",
    "Primeiro, criamos um vetor de estado de qubit v e, em seguida, o exibimos."
   ]
  },
  {
   "cell_type": "code",
   "execution_count": null,
   "id": "55135177",
   "metadata": {},
   "outputs": [],
   "source": [
    "v = Statevector([(1 + 2.0j) / 3, -2 / 3])\n",
    "v.draw(\"latex\")"
   ]
  },
  {
   "cell_type": "markdown",
   "id": "eae736f1",
   "metadata": {},
   "source": [
    "Em seguida, executar o método `measure` simula uma medição na base padrão. Ele retorna o resultado dessa medição, além do novo estado quântico do nosso sistema após essa medição. A medição efetivamente \"colapsa\" o estado para um dos estados da base (neste caso, os estados da base computacional |0⟩ e |1⟩)."
   ]
  },
  {
   "cell_type": "code",
   "execution_count": null,
   "id": "16528e9a",
   "metadata": {
    "scrolled": true
   },
   "outputs": [],
   "source": [
    "v.measure()"
   ]
  },
  {
   "cell_type": "markdown",
   "id": "7deb1e9a",
   "metadata": {},
   "source": [
    "Os resultados das medições são **probabilísticos**, portanto, o mesmo método pode retornar resultados diferentes. <span style=\"color: red;\">Tente executar a célula algumas vezes para ver isso</span>. Para o exemplo particular do vetor v definido acima, o método `measure` define o vetor de estado quântico após a medição ocorrer como sendo"
   ]
  },
  {
   "cell_type": "markdown",
   "id": "344e9677",
   "metadata": {},
   "source": [
    "$$\\left( \\frac{1 + 2i}{\\sqrt{5}} \\right) |0\\rangle$$\n"
   ]
  },
  {
   "cell_type": "markdown",
   "id": "9c23c5f6",
   "metadata": {},
   "source": [
    " ou\n",
    "\n",
    "$$-|1\\rangle$$"
   ]
  },
  {
   "cell_type": "markdown",
   "id": "9cdeb5e0",
   "metadata": {},
   "source": [
    "dependendo do resultado da medição. Em ambos os casos, as alternativas são, de fato, equivalentes — elas são ditas diferir por uma fase global porque uma é igual à outra multiplicada por um número complexo na circunferência unitária. Como uma observação à parte, o `Statevector` lançará um erro se o método `measure` for aplicado a um vetor de estado quântico inválido."
   ]
  },
  {
   "cell_type": "markdown",
   "id": "e4891133",
   "metadata": {},
   "source": [
    "<div class=\"alert alert-success\"> <strong> &#x1F4DD; Atividade 4:</strong> \n",
    "Usando o vetor da Atividade 3, efetue a medida e explique o que acontece.   "
   ]
  },
  {
   "cell_type": "code",
   "execution_count": null,
   "id": "21d52bd3",
   "metadata": {},
   "outputs": [],
   "source": [
    "##coloque aqui seu código\n",
    "vet_a.measure()"
   ]
  },
  {
   "cell_type": "markdown",
   "id": "46c7e908",
   "metadata": {},
   "source": [
    "**Insira sua explicação aqui**\n",
    "\n",
    "A medição não foi possível pois o vetor não possui um estado quântico válido."
   ]
  },
  {
   "cell_type": "markdown",
   "id": "b7fb7504",
   "metadata": {},
   "source": [
    "O `Statevector` também vem com um método `sample_counts` que permite a simulação de qualquer número de medições no sistema. Por exemplo, a seguinte célula mostra o resultado de medir o vetor v 1000 vezes, o que (com alta probabilidade) resulta no resultado  0 aproximadamente 5 de cada 9 vezes (ou cerca de 556 dos 1000 testes) e o resultado 1 aproximadamente 4 de cada 9 vezes (ou cerca de 444 dos 1000 testes). A célula também demonstra a função `plot_histogram` para visualizar os resultados."
   ]
  },
  {
   "cell_type": "code",
   "execution_count": null,
   "id": "e1de7831",
   "metadata": {},
   "outputs": [],
   "source": [
    "from qiskit.visualization import plot_histogram\n",
    "\n",
    "statistics = v.sample_counts(20000)\n",
    "display(statistics)\n",
    "plot_histogram(statistics)"
   ]
  },
  {
   "cell_type": "markdown",
   "id": "f824f64d",
   "metadata": {},
   "source": [
    "<div class=\"alert alert-success\"> <strong> &#x1F4DD; Atividade 5:</strong> Execute a célula várias utilizando diferentes números de amostras no lugar de 1000. Isso pode ser útil para desenvolver alguma intuição sobre como o número de tentativas influencia as probabilidades estimadas. Relate o que você observou."
   ]
  },
  {
   "cell_type": "markdown",
   "id": "1ebb84c3",
   "metadata": {},
   "source": [
    "**Insira sua explicação aqui**\n",
    "\n",
    "Independente do número de tentaivas a proporcção entre os resultados 0 e 1 se manteve a mesma, ou seja, 5/9 e 4/9 respectivamente. Isso mostra que o número de tentativas não influencia as probabilidades estimadas, mas sim a quantidade de vezes que cada resultado é obtido.\n"
   ]
  },
  {
   "cell_type": "markdown",
   "id": "165d07a5",
   "metadata": {},
   "source": [
    "#### Realizando operações com `Operator` e `Statevector`"
   ]
  },
  {
   "cell_type": "markdown",
   "id": "b7728d9d",
   "metadata": {},
   "source": [
    "Operações unitárias (operadores unitários) podem ser definidas e realizadas em vetores de estado no Qiskit usando a classe `Operator`, como no exemplo a seguir:"
   ]
  },
  {
   "cell_type": "markdown",
   "id": "239e1361",
   "metadata": {},
   "source": [
    "$$X|0\\rangle = |\\phi\\rangle = |1\\rangle$$"
   ]
  },
  {
   "cell_type": "code",
   "execution_count": null,
   "id": "7c5b9935",
   "metadata": {},
   "outputs": [],
   "source": [
    "from qiskit.quantum_info import Operator\n",
    "\n",
    "X = Operator([[0, 1], [1, 0]])\n",
    "ket0 = Statevector([1, 0])\n",
    "q = ket0.evolve(X)\n",
    "\n",
    "\n",
    "q.draw(\"text\")"
   ]
  },
  {
   "cell_type": "markdown",
   "id": "5f1bb43e",
   "metadata": {},
   "source": [
    "<div class=\"alert alert-success\"> <strong> &#x1F4DD; Atividade 6:</strong> Porta de Hadamard H representada pelo operador linear: \n",
    "    \n",
    "$$H=\\frac{1}{\\sqrt2}\\left(\\begin{matrix}1&1\\\\1&-1\\\\\\end{matrix}\\right)$$\n",
    "    \n",
    "Determine:\n",
    "    \n",
    "$$H|1\\rangle$$"
   ]
  },
  {
   "cell_type": "code",
   "execution_count": null,
   "id": "038f5f66",
   "metadata": {},
   "outputs": [],
   "source": [
    "##coloque aqui seu código\n",
    "\n",
    "H = Operator([[ 1/sqrt(2),  1/sqrt(2)],\n",
    "              [ 1/sqrt(2), -1/sqrt(2)]])\n",
    "ket1 = Statevector([0, 1])\n",
    "\n",
    "qbit = ket1.evolve(H)\n",
    "qbit.draw(\"text\")\n"
   ]
  },
  {
   "cell_type": "markdown",
   "id": "fc63bb86",
   "metadata": {},
   "source": [
    "## Introdução aos circuitos quânticos"
   ]
  },
  {
   "cell_type": "markdown",
   "id": "8e803a74",
   "metadata": {},
   "source": [
    "Os circuitos quânticos serão temas das próximas aulas, mas ainda assim podemos observar como implementar circuitos com uma composição de operações unitárias de qubit usando a classe `QuantumCircuit` do Qiskit. Em particular, podemos definir um circuito quântico (que neste caso será simplesmente uma sequência de operações unitárias realizadas em um único qubit) da seguinte forma:"
   ]
  },
  {
   "cell_type": "code",
   "execution_count": null,
   "id": "df4a72b6",
   "metadata": {},
   "outputs": [],
   "source": [
    "from qiskit import QuantumCircuit\n",
    "\n",
    "circuit = QuantumCircuit(1)\n",
    "\n",
    "circuit.h(0)\n",
    "circuit.t(0)\n",
    "circuit.h(0)\n",
    "circuit.t(0)\n",
    "circuit.z(0)\n",
    "\n",
    "circuit.draw('mpl')"
   ]
  },
  {
   "cell_type": "markdown",
   "id": "bd7ca2e0",
   "metadata": {},
   "source": [
    "As operações são aplicadas sequencialmente, começando à esquerda e terminando à direita na figura. Vamos primeiro inicializar um vetor de estado quântico inicial e depois evoluir esse estado de acordo com a sequência de operações."
   ]
  },
  {
   "cell_type": "code",
   "execution_count": null,
   "id": "076a7bfd",
   "metadata": {},
   "outputs": [],
   "source": [
    "ket0 = Statevector([1, 0])\n",
    "v = ket0.evolve(circuit)\n",
    "v.draw(\"latex\")"
   ]
  },
  {
   "cell_type": "markdown",
   "id": "e261a564",
   "metadata": {},
   "source": [
    "Por fim, vamos simular o resultado de executar este experimento, aplicando a sequência de operações representada pelo circuito e fazer a medição 4000 vezes."
   ]
  },
  {
   "cell_type": "code",
   "execution_count": null,
   "id": "305edc9d",
   "metadata": {},
   "outputs": [],
   "source": [
    "statistics = v.sample_counts(4000)\n",
    "plot_histogram(statistics)"
   ]
  },
  {
   "cell_type": "markdown",
   "id": "56296d53",
   "metadata": {},
   "source": [
    "<div class=\"alert alert-success\"> <strong> &#x1F4DD; Atividade 7:</strong> Considere a porta H respresentada no código abaixo. Desenvolva o código para executar este experimento, aplicando a sequência de operações representada pelo circuito e fazer uma medição de 5000 vezes. Interprete o resultado."
   ]
  },
  {
   "cell_type": "code",
   "execution_count": null,
   "id": "ff0feb3b",
   "metadata": {},
   "outputs": [],
   "source": [
    "from qiskit.quantum_info import Statevector\n",
    "from qiskit import QuantumCircuit\n",
    "\n",
    "# Criar um estado inicial |0⟩\n",
    "state = Statevector([1, 0])\n",
    "\n",
    "# Criar um circuito quântico com a porta Hadamard\n",
    "circuit = QuantumCircuit(1)\n",
    "circuit.h(0)\n",
    "circuit.draw('mpl')"
   ]
  },
  {
   "cell_type": "code",
   "execution_count": null,
   "id": "e99d0d1f",
   "metadata": {},
   "outputs": [],
   "source": [
    "# coloque aqui seu código\n",
    "\n",
    "\n",
    "final_state = state.evolve(circuit)\n",
    "\n",
    "\n",
    "counts = final_state.sample_counts(shots=5000)\n",
    "\n",
    "plot_histogram(counts)\n"
   ]
  },
  {
   "cell_type": "markdown",
   "id": "b53c498d",
   "metadata": {},
   "source": [
    "**Insira sua explicação aqui**\n",
    "\n",
    "Após a aplicação da porta H, o resultado foi 0 e 1 com a mesma probabilidade, ou seja, 50% para cada um. Isso mostra que a porta H é uma porta de Hadamard que transforma o estado |0⟩ em uma superposição igual de |0⟩ e |1⟩. Portanto, a medição do qubit após a aplicação da porta H resulta em 0 ou 1 com igual probabilidade."
   ]
  }
 ],
 "metadata": {
  "kernelspec": {
   "display_name": "venv",
   "language": "python",
   "name": "python3"
  },
  "language_info": {
   "codemirror_mode": {
    "name": "ipython",
    "version": 3
   },
   "file_extension": ".py",
   "mimetype": "text/x-python",
   "name": "python",
   "nbconvert_exporter": "python",
   "pygments_lexer": "ipython3",
   "version": "3.12.9"
  }
 },
 "nbformat": 4,
 "nbformat_minor": 5
}
