{
 "cells": [
  {
   "cell_type": "markdown",
   "id": "a0f9fc65",
   "metadata": {},
   "source": [
    "<img src= \"https://maua.br/images/logo-IMT.png\" width=250>"
   ]
  },
  {
   "cell_type": "markdown",
   "id": "cf4b175c",
   "metadata": {},
   "source": [
    "#  <center> <font color=#023e8a>  ECM797: Introdução à Computação Quântica  <center>\n",
    " <center> Prof. Sandro Martini <center>\n",
    "\n",
    "## <center>  Semana 07: Qiskit - Instalação e Testes"
   ]
  },
  {
   "cell_type": "markdown",
   "id": "edccda02",
   "metadata": {},
   "source": [
    "## Nome: Rafael Rubio\n",
    "### RA: 20.00611-0"
   ]
  },
  {
   "cell_type": "markdown",
   "id": "401c1d27",
   "metadata": {},
   "source": [
    "## Créditos e reconhecimento\n",
    "\n",
    "Este material didático foi desenvolvido com base nos recursos fornecidos pelo [Qiskit](https://www.ibm.com/quantum/qiskit) , uma iniciativa da IBM para promover e facilitar a educação e a pesquisa em computação quântica. **O Qiskit é um framework de código aberto dedicado à computação quântica, e visa fornecer ferramentas acessíveis para profissionais, pesquisadores e estudantes interessados nesta área inovadora de estudo.**\n",
    "\n",
    "Ao longo deste curso, utilizaremos exemplos, exercícios e metodologias adaptadas dos materiais disponíveis publicamente no Qiskit, traduzidos e modificados para melhor atender às necessidades do curso. Esta iniciativa não seria possível sem os valiosos recursos disponibilizados pela equipe do Qiskit e pela IBM.\n",
    "\n",
    "Encorajamos todos os alunos a explorarem o [site oficial do Qiskit](https://www.ibm.com/quantum/qiskit) e a se engajarem com a vasta gama de materiais educacionais, tutoriais e documentações oferecidos, para aprofundar seus conhecimentos e habilidades em computação quântica."
   ]
  },
  {
   "cell_type": "markdown",
   "id": "02fd0026",
   "metadata": {},
   "source": [
    "## Instruções iniciais:\n",
    "\n",
    "1. <span style=\"color: red;\">**Leia TODO o notebook e realize as tarefas indicadas**</span>;\n",
    "2. Quando tiver terminado, envie esse próprio arquivo com as atividades realizadas.\n",
    "3. O laboratório é um momento de independência para que você possa aprender de forma autônoma. Por isso leia atentamente as instruções, discuta com os colegas os exercícios, os códigos e as soluções. \n",
    "   \n",
    "\n"
   ]
  },
  {
   "cell_type": "markdown",
   "id": "3d41bd72",
   "metadata": {},
   "source": [
    "## Objetivos:"
   ]
  },
  {
   "cell_type": "markdown",
   "id": "260af190",
   "metadata": {},
   "source": [
    "-  Instalar o Qiskit.\n",
    "-  Testar e realizar algumas simulações."
   ]
  },
  {
   "cell_type": "markdown",
   "id": "a76feb5a",
   "metadata": {},
   "source": [
    "## Instalando o Qiskit"
   ]
  },
  {
   "cell_type": "markdown",
   "id": "e12c40e2",
   "metadata": {},
   "source": [
    "Instale o SDK do Qiskit e o cliente do Qiskit Runtime."
   ]
  },
  {
   "cell_type": "code",
   "execution_count": 22,
   "id": "72eea09f",
   "metadata": {},
   "outputs": [
    {
     "name": "stdout",
     "output_type": "stream",
     "text": [
      "Requirement already satisfied: qiskit in c:\\users\\rafae\\onedrive\\documents\\github\\comp-quantum\\venv\\lib\\site-packages (2.0.0)\n",
      "Requirement already satisfied: rustworkx>=0.15.0 in c:\\users\\rafae\\onedrive\\documents\\github\\comp-quantum\\venv\\lib\\site-packages (from qiskit) (0.16.0)\n",
      "Requirement already satisfied: numpy<3,>=1.17 in c:\\users\\rafae\\onedrive\\documents\\github\\comp-quantum\\venv\\lib\\site-packages (from qiskit) (2.2.4)\n",
      "Requirement already satisfied: scipy>=1.5 in c:\\users\\rafae\\onedrive\\documents\\github\\comp-quantum\\venv\\lib\\site-packages (from qiskit) (1.15.2)\n",
      "Requirement already satisfied: sympy>=1.3 in c:\\users\\rafae\\onedrive\\documents\\github\\comp-quantum\\venv\\lib\\site-packages (from qiskit) (1.13.3)\n",
      "Requirement already satisfied: dill>=0.3 in c:\\users\\rafae\\onedrive\\documents\\github\\comp-quantum\\venv\\lib\\site-packages (from qiskit) (0.4.0)\n",
      "Requirement already satisfied: python-dateutil>=2.8.0 in c:\\users\\rafae\\onedrive\\documents\\github\\comp-quantum\\venv\\lib\\site-packages (from qiskit) (2.9.0.post0)\n",
      "Requirement already satisfied: stevedore>=3.0.0 in c:\\users\\rafae\\onedrive\\documents\\github\\comp-quantum\\venv\\lib\\site-packages (from qiskit) (5.4.1)\n",
      "Requirement already satisfied: typing-extensions in c:\\users\\rafae\\onedrive\\documents\\github\\comp-quantum\\venv\\lib\\site-packages (from qiskit) (4.13.2)\n",
      "Requirement already satisfied: symengine<0.14,>=0.11 in c:\\users\\rafae\\onedrive\\documents\\github\\comp-quantum\\venv\\lib\\site-packages (from qiskit) (0.13.0)\n",
      "Requirement already satisfied: six>=1.5 in c:\\users\\rafae\\onedrive\\documents\\github\\comp-quantum\\venv\\lib\\site-packages (from python-dateutil>=2.8.0->qiskit) (1.17.0)\n",
      "Requirement already satisfied: pbr>=2.0.0 in c:\\users\\rafae\\onedrive\\documents\\github\\comp-quantum\\venv\\lib\\site-packages (from stevedore>=3.0.0->qiskit) (6.1.1)\n",
      "Requirement already satisfied: mpmath<1.4,>=1.1.0 in c:\\users\\rafae\\onedrive\\documents\\github\\comp-quantum\\venv\\lib\\site-packages (from sympy>=1.3->qiskit) (1.3.0)\n",
      "Requirement already satisfied: setuptools in c:\\users\\rafae\\onedrive\\documents\\github\\comp-quantum\\venv\\lib\\site-packages (from pbr>=2.0.0->stevedore>=3.0.0->qiskit) (78.1.0)\n",
      "Note: you may need to restart the kernel to use updated packages.\n"
     ]
    },
    {
     "name": "stderr",
     "output_type": "stream",
     "text": [
      "\n",
      "[notice] A new release of pip is available: 24.3.1 -> 25.0.1\n",
      "[notice] To update, run: python.exe -m pip install --upgrade pip\n"
     ]
    }
   ],
   "source": [
    "pip install qiskit"
   ]
  },
  {
   "cell_type": "code",
   "execution_count": 23,
   "id": "ac0cbe5a",
   "metadata": {},
   "outputs": [
    {
     "name": "stdout",
     "output_type": "stream",
     "text": [
      "Requirement already satisfied: qiskit-ibm-runtime in c:\\users\\rafae\\onedrive\\documents\\github\\comp-quantum\\venv\\lib\\site-packages (0.38.0)\n",
      "Requirement already satisfied: requests>=2.19 in c:\\users\\rafae\\onedrive\\documents\\github\\comp-quantum\\venv\\lib\\site-packages (from qiskit-ibm-runtime) (2.32.3)\n",
      "Requirement already satisfied: requests-ntlm>=1.1.0 in c:\\users\\rafae\\onedrive\\documents\\github\\comp-quantum\\venv\\lib\\site-packages (from qiskit-ibm-runtime) (1.3.0)\n",
      "Requirement already satisfied: numpy>=1.13 in c:\\users\\rafae\\onedrive\\documents\\github\\comp-quantum\\venv\\lib\\site-packages (from qiskit-ibm-runtime) (2.2.4)\n",
      "Requirement already satisfied: urllib3>=1.21.1 in c:\\users\\rafae\\onedrive\\documents\\github\\comp-quantum\\venv\\lib\\site-packages (from qiskit-ibm-runtime) (2.4.0)\n",
      "Requirement already satisfied: python-dateutil>=2.8.0 in c:\\users\\rafae\\onedrive\\documents\\github\\comp-quantum\\venv\\lib\\site-packages (from qiskit-ibm-runtime) (2.9.0.post0)\n",
      "Requirement already satisfied: ibm-platform-services>=0.22.6 in c:\\users\\rafae\\onedrive\\documents\\github\\comp-quantum\\venv\\lib\\site-packages (from qiskit-ibm-runtime) (0.63.0)\n",
      "Collecting pydantic<2.10,>=2.5.0 (from qiskit-ibm-runtime)\n",
      "  Using cached pydantic-2.9.2-py3-none-any.whl.metadata (149 kB)\n",
      "Requirement already satisfied: qiskit>=1.4.1 in c:\\users\\rafae\\onedrive\\documents\\github\\comp-quantum\\venv\\lib\\site-packages (from qiskit-ibm-runtime) (2.0.0)\n",
      "Requirement already satisfied: packaging in c:\\users\\rafae\\onedrive\\documents\\github\\comp-quantum\\venv\\lib\\site-packages (from qiskit-ibm-runtime) (24.2)\n",
      "Requirement already satisfied: ibm_cloud_sdk_core<4.0.0,>=3.22.1 in c:\\users\\rafae\\onedrive\\documents\\github\\comp-quantum\\venv\\lib\\site-packages (from ibm-platform-services>=0.22.6->qiskit-ibm-runtime) (3.23.0)\n",
      "Requirement already satisfied: annotated-types>=0.6.0 in c:\\users\\rafae\\onedrive\\documents\\github\\comp-quantum\\venv\\lib\\site-packages (from pydantic<2.10,>=2.5.0->qiskit-ibm-runtime) (0.7.0)\n",
      "Collecting pydantic-core==2.23.4 (from pydantic<2.10,>=2.5.0->qiskit-ibm-runtime)\n",
      "  Using cached pydantic_core-2.23.4-cp312-none-win_amd64.whl.metadata (6.7 kB)\n",
      "Requirement already satisfied: typing-extensions>=4.6.1 in c:\\users\\rafae\\onedrive\\documents\\github\\comp-quantum\\venv\\lib\\site-packages (from pydantic<2.10,>=2.5.0->qiskit-ibm-runtime) (4.13.2)\n",
      "Requirement already satisfied: six>=1.5 in c:\\users\\rafae\\onedrive\\documents\\github\\comp-quantum\\venv\\lib\\site-packages (from python-dateutil>=2.8.0->qiskit-ibm-runtime) (1.17.0)\n",
      "Requirement already satisfied: rustworkx>=0.15.0 in c:\\users\\rafae\\onedrive\\documents\\github\\comp-quantum\\venv\\lib\\site-packages (from qiskit>=1.4.1->qiskit-ibm-runtime) (0.16.0)\n",
      "Requirement already satisfied: scipy>=1.5 in c:\\users\\rafae\\onedrive\\documents\\github\\comp-quantum\\venv\\lib\\site-packages (from qiskit>=1.4.1->qiskit-ibm-runtime) (1.15.2)\n",
      "Requirement already satisfied: sympy>=1.3 in c:\\users\\rafae\\onedrive\\documents\\github\\comp-quantum\\venv\\lib\\site-packages (from qiskit>=1.4.1->qiskit-ibm-runtime) (1.13.3)\n",
      "Requirement already satisfied: dill>=0.3 in c:\\users\\rafae\\onedrive\\documents\\github\\comp-quantum\\venv\\lib\\site-packages (from qiskit>=1.4.1->qiskit-ibm-runtime) (0.4.0)\n",
      "Requirement already satisfied: stevedore>=3.0.0 in c:\\users\\rafae\\onedrive\\documents\\github\\comp-quantum\\venv\\lib\\site-packages (from qiskit>=1.4.1->qiskit-ibm-runtime) (5.4.1)\n",
      "Requirement already satisfied: symengine<0.14,>=0.11 in c:\\users\\rafae\\onedrive\\documents\\github\\comp-quantum\\venv\\lib\\site-packages (from qiskit>=1.4.1->qiskit-ibm-runtime) (0.13.0)\n",
      "Requirement already satisfied: charset-normalizer<4,>=2 in c:\\users\\rafae\\onedrive\\documents\\github\\comp-quantum\\venv\\lib\\site-packages (from requests>=2.19->qiskit-ibm-runtime) (3.4.1)\n",
      "Requirement already satisfied: idna<4,>=2.5 in c:\\users\\rafae\\onedrive\\documents\\github\\comp-quantum\\venv\\lib\\site-packages (from requests>=2.19->qiskit-ibm-runtime) (3.10)\n",
      "Requirement already satisfied: certifi>=2017.4.17 in c:\\users\\rafae\\onedrive\\documents\\github\\comp-quantum\\venv\\lib\\site-packages (from requests>=2.19->qiskit-ibm-runtime) (2025.1.31)\n",
      "Requirement already satisfied: cryptography>=1.3 in c:\\users\\rafae\\onedrive\\documents\\github\\comp-quantum\\venv\\lib\\site-packages (from requests-ntlm>=1.1.0->qiskit-ibm-runtime) (44.0.2)\n",
      "Requirement already satisfied: pyspnego>=0.4.0 in c:\\users\\rafae\\onedrive\\documents\\github\\comp-quantum\\venv\\lib\\site-packages (from requests-ntlm>=1.1.0->qiskit-ibm-runtime) (0.11.2)\n",
      "Requirement already satisfied: cffi>=1.12 in c:\\users\\rafae\\onedrive\\documents\\github\\comp-quantum\\venv\\lib\\site-packages (from cryptography>=1.3->requests-ntlm>=1.1.0->qiskit-ibm-runtime) (1.17.1)\n",
      "Requirement already satisfied: PyJWT<3.0.0,>=2.8.0 in c:\\users\\rafae\\onedrive\\documents\\github\\comp-quantum\\venv\\lib\\site-packages (from ibm_cloud_sdk_core<4.0.0,>=3.22.1->ibm-platform-services>=0.22.6->qiskit-ibm-runtime) (2.10.1)\n",
      "Requirement already satisfied: sspilib>=0.1.0 in c:\\users\\rafae\\onedrive\\documents\\github\\comp-quantum\\venv\\lib\\site-packages (from pyspnego>=0.4.0->requests-ntlm>=1.1.0->qiskit-ibm-runtime) (0.3.0)\n",
      "Requirement already satisfied: pbr>=2.0.0 in c:\\users\\rafae\\onedrive\\documents\\github\\comp-quantum\\venv\\lib\\site-packages (from stevedore>=3.0.0->qiskit>=1.4.1->qiskit-ibm-runtime) (6.1.1)\n",
      "Requirement already satisfied: mpmath<1.4,>=1.1.0 in c:\\users\\rafae\\onedrive\\documents\\github\\comp-quantum\\venv\\lib\\site-packages (from sympy>=1.3->qiskit>=1.4.1->qiskit-ibm-runtime) (1.3.0)\n",
      "Requirement already satisfied: pycparser in c:\\users\\rafae\\onedrive\\documents\\github\\comp-quantum\\venv\\lib\\site-packages (from cffi>=1.12->cryptography>=1.3->requests-ntlm>=1.1.0->qiskit-ibm-runtime) (2.22)\n",
      "Requirement already satisfied: setuptools in c:\\users\\rafae\\onedrive\\documents\\github\\comp-quantum\\venv\\lib\\site-packages (from pbr>=2.0.0->stevedore>=3.0.0->qiskit>=1.4.1->qiskit-ibm-runtime) (78.1.0)\n",
      "Using cached pydantic-2.9.2-py3-none-any.whl (434 kB)\n",
      "Using cached pydantic_core-2.23.4-cp312-none-win_amd64.whl (1.9 MB)\n",
      "Installing collected packages: pydantic-core, pydantic\n",
      "  Attempting uninstall: pydantic-core\n",
      "    Found existing installation: pydantic_core 2.33.1\n",
      "    Uninstalling pydantic_core-2.33.1:\n",
      "      Successfully uninstalled pydantic_core-2.33.1\n",
      "  Attempting uninstall: pydantic\n",
      "    Found existing installation: pydantic 2.11.3\n",
      "    Uninstalling pydantic-2.11.3:\n",
      "      Successfully uninstalled pydantic-2.11.3\n",
      "Successfully installed pydantic-2.9.2 pydantic-core-2.23.4\n",
      "Note: you may need to restart the kernel to use updated packages.\n"
     ]
    },
    {
     "name": "stderr",
     "output_type": "stream",
     "text": [
      "\n",
      "[notice] A new release of pip is available: 24.3.1 -> 25.0.1\n",
      "[notice] To update, run: python.exe -m pip install --upgrade pip\n"
     ]
    }
   ],
   "source": [
    "pip install qiskit-ibm-runtime"
   ]
  },
  {
   "cell_type": "markdown",
   "id": "14406471",
   "metadata": {},
   "source": [
    "Para usar as funcionalidades de visualização é recomendado instalar um suporte adicional para visualização."
   ]
  },
  {
   "cell_type": "code",
   "execution_count": 24,
   "id": "fed876e3",
   "metadata": {},
   "outputs": [
    {
     "name": "stdout",
     "output_type": "stream",
     "text": [
      "Requirement already satisfied: qiskit[visualization] in c:\\users\\rafae\\onedrive\\documents\\github\\comp-quantum\\venv\\lib\\site-packages (2.0.0)\n",
      "Requirement already satisfied: rustworkx>=0.15.0 in c:\\users\\rafae\\onedrive\\documents\\github\\comp-quantum\\venv\\lib\\site-packages (from qiskit[visualization]) (0.16.0)\n",
      "Requirement already satisfied: numpy<3,>=1.17 in c:\\users\\rafae\\onedrive\\documents\\github\\comp-quantum\\venv\\lib\\site-packages (from qiskit[visualization]) (2.2.4)\n",
      "Requirement already satisfied: scipy>=1.5 in c:\\users\\rafae\\onedrive\\documents\\github\\comp-quantum\\venv\\lib\\site-packages (from qiskit[visualization]) (1.15.2)\n",
      "Requirement already satisfied: sympy>=1.3 in c:\\users\\rafae\\onedrive\\documents\\github\\comp-quantum\\venv\\lib\\site-packages (from qiskit[visualization]) (1.13.3)\n",
      "Requirement already satisfied: dill>=0.3 in c:\\users\\rafae\\onedrive\\documents\\github\\comp-quantum\\venv\\lib\\site-packages (from qiskit[visualization]) (0.4.0)\n",
      "Requirement already satisfied: python-dateutil>=2.8.0 in c:\\users\\rafae\\onedrive\\documents\\github\\comp-quantum\\venv\\lib\\site-packages (from qiskit[visualization]) (2.9.0.post0)\n",
      "Requirement already satisfied: stevedore>=3.0.0 in c:\\users\\rafae\\onedrive\\documents\\github\\comp-quantum\\venv\\lib\\site-packages (from qiskit[visualization]) (5.4.1)\n",
      "Requirement already satisfied: typing-extensions in c:\\users\\rafae\\onedrive\\documents\\github\\comp-quantum\\venv\\lib\\site-packages (from qiskit[visualization]) (4.13.2)\n",
      "Requirement already satisfied: symengine<0.14,>=0.11 in c:\\users\\rafae\\onedrive\\documents\\github\\comp-quantum\\venv\\lib\\site-packages (from qiskit[visualization]) (0.13.0)\n",
      "Requirement already satisfied: matplotlib>=3.3 in c:\\users\\rafae\\onedrive\\documents\\github\\comp-quantum\\venv\\lib\\site-packages (from qiskit[visualization]) (3.10.1)\n",
      "Requirement already satisfied: pydot in c:\\users\\rafae\\onedrive\\documents\\github\\comp-quantum\\venv\\lib\\site-packages (from qiskit[visualization]) (3.0.4)\n",
      "Requirement already satisfied: Pillow>=4.2.1 in c:\\users\\rafae\\onedrive\\documents\\github\\comp-quantum\\venv\\lib\\site-packages (from qiskit[visualization]) (11.2.1)\n",
      "Requirement already satisfied: pylatexenc>=1.4 in c:\\users\\rafae\\onedrive\\documents\\github\\comp-quantum\\venv\\lib\\site-packages (from qiskit[visualization]) (2.10)\n",
      "Requirement already satisfied: seaborn>=0.9.0 in c:\\users\\rafae\\onedrive\\documents\\github\\comp-quantum\\venv\\lib\\site-packages (from qiskit[visualization]) (0.13.2)\n",
      "Requirement already satisfied: contourpy>=1.0.1 in c:\\users\\rafae\\onedrive\\documents\\github\\comp-quantum\\venv\\lib\\site-packages (from matplotlib>=3.3->qiskit[visualization]) (1.3.2)\n",
      "Requirement already satisfied: cycler>=0.10 in c:\\users\\rafae\\onedrive\\documents\\github\\comp-quantum\\venv\\lib\\site-packages (from matplotlib>=3.3->qiskit[visualization]) (0.12.1)\n",
      "Requirement already satisfied: fonttools>=4.22.0 in c:\\users\\rafae\\onedrive\\documents\\github\\comp-quantum\\venv\\lib\\site-packages (from matplotlib>=3.3->qiskit[visualization]) (4.57.0)\n",
      "Requirement already satisfied: kiwisolver>=1.3.1 in c:\\users\\rafae\\onedrive\\documents\\github\\comp-quantum\\venv\\lib\\site-packages (from matplotlib>=3.3->qiskit[visualization]) (1.4.8)\n",
      "Requirement already satisfied: packaging>=20.0 in c:\\users\\rafae\\onedrive\\documents\\github\\comp-quantum\\venv\\lib\\site-packages (from matplotlib>=3.3->qiskit[visualization]) (24.2)\n",
      "Requirement already satisfied: pyparsing>=2.3.1 in c:\\users\\rafae\\onedrive\\documents\\github\\comp-quantum\\venv\\lib\\site-packages (from matplotlib>=3.3->qiskit[visualization]) (3.2.3)\n",
      "Requirement already satisfied: six>=1.5 in c:\\users\\rafae\\onedrive\\documents\\github\\comp-quantum\\venv\\lib\\site-packages (from python-dateutil>=2.8.0->qiskit[visualization]) (1.17.0)\n",
      "Requirement already satisfied: pandas>=1.2 in c:\\users\\rafae\\onedrive\\documents\\github\\comp-quantum\\venv\\lib\\site-packages (from seaborn>=0.9.0->qiskit[visualization]) (2.2.3)\n",
      "Requirement already satisfied: pbr>=2.0.0 in c:\\users\\rafae\\onedrive\\documents\\github\\comp-quantum\\venv\\lib\\site-packages (from stevedore>=3.0.0->qiskit[visualization]) (6.1.1)\n",
      "Requirement already satisfied: mpmath<1.4,>=1.1.0 in c:\\users\\rafae\\onedrive\\documents\\github\\comp-quantum\\venv\\lib\\site-packages (from sympy>=1.3->qiskit[visualization]) (1.3.0)\n",
      "Requirement already satisfied: pytz>=2020.1 in c:\\users\\rafae\\onedrive\\documents\\github\\comp-quantum\\venv\\lib\\site-packages (from pandas>=1.2->seaborn>=0.9.0->qiskit[visualization]) (2025.2)\n",
      "Requirement already satisfied: tzdata>=2022.7 in c:\\users\\rafae\\onedrive\\documents\\github\\comp-quantum\\venv\\lib\\site-packages (from pandas>=1.2->seaborn>=0.9.0->qiskit[visualization]) (2025.2)\n",
      "Requirement already satisfied: setuptools in c:\\users\\rafae\\onedrive\\documents\\github\\comp-quantum\\venv\\lib\\site-packages (from pbr>=2.0.0->stevedore>=3.0.0->qiskit[visualization]) (78.1.0)\n",
      "Note: you may need to restart the kernel to use updated packages.\n"
     ]
    },
    {
     "name": "stderr",
     "output_type": "stream",
     "text": [
      "\n",
      "[notice] A new release of pip is available: 24.3.1 -> 25.0.1\n",
      "[notice] To update, run: python.exe -m pip install --upgrade pip\n"
     ]
    }
   ],
   "source": [
    "pip install qiskit[visualization]"
   ]
  },
  {
   "cell_type": "code",
   "execution_count": 25,
   "id": "4202a24f",
   "metadata": {},
   "outputs": [
    {
     "name": "stdout",
     "output_type": "stream",
     "text": [
      "Requirement already satisfied: pydantic in c:\\users\\rafae\\onedrive\\documents\\github\\comp-quantum\\venv\\lib\\site-packages (2.9.2)\n",
      "Collecting pydantic\n",
      "  Using cached pydantic-2.11.3-py3-none-any.whl.metadata (65 kB)\n",
      "Requirement already satisfied: annotated-types>=0.6.0 in c:\\users\\rafae\\onedrive\\documents\\github\\comp-quantum\\venv\\lib\\site-packages (from pydantic) (0.7.0)\n",
      "Collecting pydantic-core==2.33.1 (from pydantic)\n",
      "  Using cached pydantic_core-2.33.1-cp312-cp312-win_amd64.whl.metadata (6.9 kB)\n",
      "Requirement already satisfied: typing-extensions>=4.12.2 in c:\\users\\rafae\\onedrive\\documents\\github\\comp-quantum\\venv\\lib\\site-packages (from pydantic) (4.13.2)\n",
      "Requirement already satisfied: typing-inspection>=0.4.0 in c:\\users\\rafae\\onedrive\\documents\\github\\comp-quantum\\venv\\lib\\site-packages (from pydantic) (0.4.0)\n",
      "Using cached pydantic-2.11.3-py3-none-any.whl (443 kB)\n",
      "Using cached pydantic_core-2.33.1-cp312-cp312-win_amd64.whl (2.0 MB)\n",
      "Installing collected packages: pydantic-core, pydantic\n",
      "  Attempting uninstall: pydantic-core\n",
      "    Found existing installation: pydantic_core 2.23.4\n",
      "    Uninstalling pydantic_core-2.23.4:\n",
      "      Successfully uninstalled pydantic_core-2.23.4\n",
      "  Attempting uninstall: pydantic\n",
      "    Found existing installation: pydantic 2.9.2\n",
      "    Uninstalling pydantic-2.9.2:\n",
      "      Successfully uninstalled pydantic-2.9.2\n",
      "Successfully installed pydantic-2.11.3 pydantic-core-2.33.1\n",
      "Note: you may need to restart the kernel to use updated packages.\n"
     ]
    },
    {
     "name": "stderr",
     "output_type": "stream",
     "text": [
      "ERROR: pip's dependency resolver does not currently take into account all the packages that are installed. This behaviour is the source of the following dependency conflicts.\n",
      "qiskit-ibm-runtime 0.38.0 requires pydantic<2.10,>=2.5.0, but you have pydantic 2.11.3 which is incompatible.\n",
      "\n",
      "[notice] A new release of pip is available: 24.3.1 -> 25.0.1\n",
      "[notice] To update, run: python.exe -m pip install --upgrade pip\n"
     ]
    }
   ],
   "source": [
    "pip install --upgrade pydantic"
   ]
  },
  {
   "cell_type": "markdown",
   "id": "038b4d07",
   "metadata": {},
   "source": [
    "<span style=\"color: red;\">**Depois dos pacotes instalados, vá em `Kernel` e clique em `Restart & Clean Output`**</span>"
   ]
  },
  {
   "cell_type": "markdown",
   "id": "4ebc93c2",
   "metadata": {},
   "source": [
    "## Exemplos do Qiskit"
   ]
  },
  {
   "cell_type": "markdown",
   "id": "c9a744ef",
   "metadata": {},
   "source": [
    "### Vetores e Matrizes"
   ]
  },
  {
   "cell_type": "markdown",
   "id": "691b5d3a",
   "metadata": {},
   "source": [
    "O Qiskit utiliza a linguagem de programação Python. Em Python, as operações com matrizes e vetores podem ser realizadas usando a classe de `array` da biblioteca `NumPy`.\n",
    "\n",
    "Aqui está um exemplo de uma célula de código que define dois vetores, `ket0` e `ket1`, correspondentes aos vetores de estado do qubit ∣0⟩ e ∣1⟩, e exibe sua média."
   ]
  },
  {
   "cell_type": "code",
   "execution_count": 26,
   "id": "6f14822f",
   "metadata": {},
   "outputs": [
    {
     "data": {
      "text/plain": [
       "array([0.5, 0.5])"
      ]
     },
     "metadata": {},
     "output_type": "display_data"
    }
   ],
   "source": [
    "from numpy import array\n",
    "\n",
    "ket0 = array([1, 0])\n",
    "ket1 = array([0, 1])\n",
    "\n",
    "display(ket0 / 2 + ket1 / 2)"
   ]
  },
  {
   "cell_type": "markdown",
   "id": "2730d82b",
   "metadata": {},
   "source": [
    "É importante destacar que executar células de código sequencialmente em um notebook tem um efeito cumulativo, ou seja, não é necessário recarregar a classe `array` ou definir `ket0` e `ket1` novamente. Recarregar a página ou mudar para outra página, no entanto, resetará tudo para o estado inicial.\n",
    "\n",
    "Como uma orientação geral, espera-se que as células de código dentro de cada subseção do notebook sejam executadas sequencialmente. Portanto, se a execução de uma célula de código gerar um erro, certifique-se de primeiro executar todas as células de código anteriores dentro da subseção em que essa célula de código aparece.\n",
    "\n",
    "Também podemos usar `array` para criar matrizes que representam operações."
   ]
  },
  {
   "cell_type": "code",
   "execution_count": 27,
   "id": "b27a0777",
   "metadata": {},
   "outputs": [
    {
     "data": {
      "text/plain": [
       "array([[1. , 1. ],\n",
       "       [0.5, 0. ]])"
      ]
     },
     "execution_count": 27,
     "metadata": {},
     "output_type": "execute_result"
    }
   ],
   "source": [
    "M1 = array([[1, 1], [0, 0]])\n",
    "M2 = array([[1, 1], [1, 0]])\n",
    "\n",
    "M1 / 2 + M2 / 2"
   ]
  },
  {
   "cell_type": "markdown",
   "id": "af69474a",
   "metadata": {},
   "source": [
    "A multiplicação de matrizes pode ser realizada usando a função `matmul` do NumPy:"
   ]
  },
  {
   "cell_type": "code",
   "execution_count": 28,
   "id": "884e5acd",
   "metadata": {},
   "outputs": [
    {
     "data": {
      "text/plain": [
       "array([[2, 1],\n",
       "       [0, 0]])"
      ]
     },
     "metadata": {},
     "output_type": "display_data"
    },
    {
     "data": {
      "text/plain": [
       "array([[1, 1],\n",
       "       [1, 1]])"
      ]
     },
     "metadata": {},
     "output_type": "display_data"
    }
   ],
   "source": [
    "from numpy import matmul\n",
    "\n",
    "display(matmul(M1, M2))\n",
    "display(matmul(M2, M1))"
   ]
  },
  {
   "cell_type": "markdown",
   "id": "9ab0c045",
   "metadata": {},
   "source": [
    "Na multiplicação de uma matriz por um vetor no contexto da álgebra linear,  e consequentemente na operação `matmul` do NumPy, o vetor é tratado como uma matriz coluna. Mesmo que o vetor seja fornecido como um array unidimensional (por exemplo, `ket0 = array([1, 0])`, na operação de multiplicação de matrizes, ele é conceitualmente considerado como uma matriz coluna (neste caso, 2×1)."
   ]
  },
  {
   "cell_type": "code",
   "execution_count": 29,
   "id": "a6293000",
   "metadata": {},
   "outputs": [
    {
     "data": {
      "text/plain": [
       "array([1, 0])"
      ]
     },
     "metadata": {},
     "output_type": "display_data"
    }
   ],
   "source": [
    "display(matmul(M1, ket1))"
   ]
  },
  {
   "cell_type": "markdown",
   "id": "0e34018b",
   "metadata": {},
   "source": [
    "<div class=\"alert alert-success\"> <strong> &#x1F4DD; Atividade 1: </strong>  \n",
    "\n",
    "Considere as matrizes *A* e *B* abaixo. Calcule o produto *AB*.\n",
    "\n",
    "$$\n",
    "A = \\begin{pmatrix} 2 & 4 \\\\ 3 & 1 \\end{pmatrix}\n",
    "$$\n",
    "\n",
    "$$\n",
    "B = \\begin{pmatrix} 1 & 3 \\\\ 2 & 0 \\end{pmatrix}\n",
    "$$\n",
    "\n",
    "\n",
    "</div>"
   ]
  },
  {
   "cell_type": "code",
   "execution_count": 30,
   "id": "8d47aaeb",
   "metadata": {},
   "outputs": [
    {
     "data": {
      "text/plain": [
       "array([[10,  6],\n",
       "       [ 5,  9]])"
      ]
     },
     "metadata": {},
     "output_type": "display_data"
    }
   ],
   "source": [
    "#coloque seu código aqui\n",
    "matriz_a = array([[2, 4], [3, 1]])\n",
    "matriz_b = array([[1, 3], [2, 0]])\n",
    "\n",
    "display(matmul(matriz_a, matriz_b))"
   ]
  },
  {
   "cell_type": "markdown",
   "id": "24d83411",
   "metadata": {},
   "source": [
    "<div class=\"alert alert-success\"> <strong> &#x1F4DD; Atividade 2: </strong>  \n",
    "\n",
    "Considere as matrizes *C* e *D* abaixo. Calcule o produto *CD*.\n",
    "\n",
    "$$\n",
    "C = \\begin{pmatrix} -1 & 2 & 0 \\\\ 3 & 0 & 1 \\end{pmatrix}\n",
    "$$\n",
    "\n",
    "$$\n",
    "D = \\begin{pmatrix} 3 & 1 \\\\ 2 & -2 \\\\ 0 & 4 \\end{pmatrix}\n",
    "$$"
   ]
  },
  {
   "cell_type": "code",
   "execution_count": 31,
   "id": "e00cdca8",
   "metadata": {},
   "outputs": [
    {
     "data": {
      "text/plain": [
       "array([[ 1, -5],\n",
       "       [ 9,  7]])"
      ]
     },
     "metadata": {},
     "output_type": "display_data"
    }
   ],
   "source": [
    "#coloque seu código aqui\n",
    "matriz_c = array([[-1, 2, 0], [3, 0, 1]])\n",
    "matriz_d = array([[3, 1], [2, -2], [0, 4]])\n",
    "\n",
    "display(matmul(matriz_c, matriz_d))"
   ]
  },
  {
   "cell_type": "markdown",
   "id": "dd413b35",
   "metadata": {},
   "source": [
    "### Estados, medições e operações"
   ]
  },
  {
   "cell_type": "markdown",
   "id": "6aa1b4d0",
   "metadata": {},
   "source": [
    "\n",
    "O Qiskit inclui várias classes que permitem que estados, medições e operações sejam facilmente criados e manipulados. Alguns exemplos para começar são incluídos abaixo."
   ]
  },
  {
   "cell_type": "markdown",
   "id": "588e4b6b",
   "metadata": {},
   "source": [
    "#### Definindo e exibindo vetores de estado"
   ]
  },
  {
   "cell_type": "markdown",
   "id": "495c77ea",
   "metadata": {},
   "source": [
    "A classe `Statevector` do Qiskit oferece funcionalidades para definir e manipular vetores de estado quântico. A seguinte célula de código importa a classe Statevector e define alguns vetores usando-a. (Observe que precisamos da função sqrt da biblioteca NumPy para calcular as raízes quadradas para o vetor u.)\n"
   ]
  },
  {
   "cell_type": "code",
   "execution_count": 32,
   "id": "1ddcc64d",
   "metadata": {},
   "outputs": [
    {
     "name": "stdout",
     "output_type": "stream",
     "text": [
      "State vectors u, v, and w have been defined.\n"
     ]
    }
   ],
   "source": [
    "from qiskit.quantum_info import Statevector\n",
    "from numpy import sqrt\n",
    "\n",
    "u = Statevector([1 / sqrt(2), 1 / sqrt(2)])\n",
    "v = Statevector([(1 + 2.0j) / 3, -2 / 3])\n",
    "w = Statevector([1 / 3, 2 / 3])\n",
    "\n",
    "print(\"State vectors u, v, and w have been defined.\")"
   ]
  },
  {
   "cell_type": "markdown",
   "id": "35740b9f",
   "metadata": {},
   "source": [
    "A classe `Statevector` oferece um comando `draw` para exibir vetores de estado, incluindo opções de latex e texto para diferentes visualizações, como demonstra a célula de código a seguir:"
   ]
  },
  {
   "cell_type": "code",
   "execution_count": 33,
   "id": "54899d92",
   "metadata": {},
   "outputs": [
    {
     "data": {
      "text/latex": [
       "$$\\frac{\\sqrt{2}}{2} |0\\rangle+\\frac{\\sqrt{2}}{2} |1\\rangle$$"
      ],
      "text/plain": [
       "<IPython.core.display.Latex object>"
      ]
     },
     "metadata": {},
     "output_type": "display_data"
    },
    {
     "data": {
      "text/plain": [
       "[0.70710678+0.j,0.70710678+0.j]"
      ]
     },
     "metadata": {},
     "output_type": "display_data"
    },
    {
     "data": {
      "text/latex": [
       "$$(\\frac{1}{3} + \\frac{2 i}{3}) |0\\rangle- \\frac{2}{3} |1\\rangle$$"
      ],
      "text/plain": [
       "<IPython.core.display.Latex object>"
      ]
     },
     "metadata": {},
     "output_type": "display_data"
    },
    {
     "data": {
      "text/plain": [
       "[ 0.33333333+0.66666667j,-0.66666667+0.j        ]"
      ]
     },
     "metadata": {},
     "output_type": "display_data"
    },
    {
     "data": {
      "text/latex": [
       "$$\\frac{1}{3} |0\\rangle+\\frac{2}{3} |1\\rangle$$"
      ],
      "text/plain": [
       "<IPython.core.display.Latex object>"
      ]
     },
     "metadata": {},
     "output_type": "display_data"
    },
    {
     "data": {
      "text/plain": [
       "[0.33333333+0.j,0.66666667+0.j]"
      ]
     },
     "metadata": {},
     "output_type": "display_data"
    }
   ],
   "source": [
    "display(u.draw(\"latex\"))\n",
    "display(u.draw(\"text\"))\n",
    "display(v.draw(\"latex\"))\n",
    "display(v.draw(\"text\"))\n",
    "display(w.draw(\"latex\"))\n",
    "display(w.draw(\"text\"))"
   ]
  },
  {
   "cell_type": "markdown",
   "id": "aec04deb",
   "metadata": {},
   "source": [
    "A classe `Statevector` também inclui o método `is_valid`, que verifica se um dado vetor é um vetor de estado quântico válido (ou seja, se tem uma norma euclidiana igual a 1):"
   ]
  },
  {
   "cell_type": "code",
   "execution_count": 34,
   "id": "6048d425",
   "metadata": {},
   "outputs": [
    {
     "data": {
      "text/plain": [
       "True"
      ]
     },
     "metadata": {},
     "output_type": "display_data"
    },
    {
     "data": {
      "text/plain": [
       "True"
      ]
     },
     "metadata": {},
     "output_type": "display_data"
    },
    {
     "data": {
      "text/plain": [
       "False"
      ]
     },
     "metadata": {},
     "output_type": "display_data"
    }
   ],
   "source": [
    "display(u.is_valid())\n",
    "display(v.is_valid())\n",
    "display(w.is_valid())"
   ]
  },
  {
   "cell_type": "markdown",
   "id": "7195db65",
   "metadata": {},
   "source": [
    "<div class=\"alert alert-success\"> <strong> &#x1F4DD; Atividade 3: </strong>  \n",
    "\n",
    "Dado o seguinte estado quântico:\n",
    "\n",
    "$$\n",
    " | \\phi \\rangle \\ = \\frac{1}{\\sqrt{3}} | 0 \\rangle \\ + \\sqrt{2}i| 1 \\rangle\n",
    "$$\n",
    "\n",
    "A apresente o vetor no formato latex e verifique se ele está normalizado ou não."
   ]
  },
  {
   "cell_type": "code",
   "execution_count": 35,
   "id": "ee037f3c",
   "metadata": {},
   "outputs": [
    {
     "data": {
      "text/latex": [
       "$$\\frac{\\sqrt{3}}{3} |0\\rangle+(1 + i) |1\\rangle$$"
      ],
      "text/plain": [
       "<IPython.core.display.Latex object>"
      ]
     },
     "metadata": {},
     "output_type": "display_data"
    },
    {
     "data": {
      "text/plain": [
       "False"
      ]
     },
     "metadata": {},
     "output_type": "display_data"
    }
   ],
   "source": [
    "#coloque seu código aqui\n",
    "vet_a = Statevector([1 / sqrt(3), sqrt(2.0j)])\n",
    "\n",
    "display(vet_a.draw(\"latex\"))\n",
    "display(vet_a.is_valid())"
   ]
  },
  {
   "cell_type": "markdown",
   "id": "0ec29ba5",
   "metadata": {},
   "source": [
    "#### Simulando medições usando `Statevector`"
   ]
  },
  {
   "cell_type": "markdown",
   "id": "4dce4b29",
   "metadata": {},
   "source": [
    "Em seguida, veremos uma maneira pela qual as medições de estados quânticos podem ser simuladas no Qiskit, usando o método `measure` da classe `Statevector`.\n",
    "\n",
    "Primeiro, criamos um vetor de estado de qubit v e, em seguida, o exibimos."
   ]
  },
  {
   "cell_type": "code",
   "execution_count": 36,
   "id": "55135177",
   "metadata": {},
   "outputs": [
    {
     "data": {
      "text/latex": [
       "$$(\\frac{1}{3} + \\frac{2 i}{3}) |0\\rangle- \\frac{2}{3} |1\\rangle$$"
      ],
      "text/plain": [
       "<IPython.core.display.Latex object>"
      ]
     },
     "execution_count": 36,
     "metadata": {},
     "output_type": "execute_result"
    }
   ],
   "source": [
    "v = Statevector([(1 + 2.0j) / 3, -2 / 3])\n",
    "v.draw(\"latex\")"
   ]
  },
  {
   "cell_type": "markdown",
   "id": "eae736f1",
   "metadata": {},
   "source": [
    "Em seguida, executar o método `measure` simula uma medição na base padrão. Ele retorna o resultado dessa medição, além do novo estado quântico do nosso sistema após essa medição. A medição efetivamente \"colapsa\" o estado para um dos estados da base (neste caso, os estados da base computacional |0⟩ e |1⟩)."
   ]
  },
  {
   "cell_type": "code",
   "execution_count": 37,
   "id": "16528e9a",
   "metadata": {
    "scrolled": true
   },
   "outputs": [
    {
     "data": {
      "text/plain": [
       "(np.str_('0'),\n",
       " Statevector([0.4472136+0.89442719j, 0.       +0.j        ],\n",
       "             dims=(2,)))"
      ]
     },
     "execution_count": 37,
     "metadata": {},
     "output_type": "execute_result"
    }
   ],
   "source": [
    "v.measure()"
   ]
  },
  {
   "cell_type": "markdown",
   "id": "7deb1e9a",
   "metadata": {},
   "source": [
    "Os resultados das medições são **probabilísticos**, portanto, o mesmo método pode retornar resultados diferentes. <span style=\"color: red;\">Tente executar a célula algumas vezes para ver isso</span>. Para o exemplo particular do vetor v definido acima, o método `measure` define o vetor de estado quântico após a medição ocorrer como sendo"
   ]
  },
  {
   "cell_type": "markdown",
   "id": "344e9677",
   "metadata": {},
   "source": [
    "$$\\left( \\frac{1 + 2i}{\\sqrt{5}} \\right) |0\\rangle$$\n"
   ]
  },
  {
   "cell_type": "markdown",
   "id": "9c23c5f6",
   "metadata": {},
   "source": [
    " ou\n",
    "\n",
    "$$-|1\\rangle$$"
   ]
  },
  {
   "cell_type": "markdown",
   "id": "9cdeb5e0",
   "metadata": {},
   "source": [
    "dependendo do resultado da medição. Em ambos os casos, as alternativas são, de fato, equivalentes — elas são ditas diferir por uma fase global porque uma é igual à outra multiplicada por um número complexo na circunferência unitária. Como uma observação à parte, o `Statevector` lançará um erro se o método `measure` for aplicado a um vetor de estado quântico inválido."
   ]
  },
  {
   "cell_type": "markdown",
   "id": "e4891133",
   "metadata": {},
   "source": [
    "<div class=\"alert alert-success\"> <strong> &#x1F4DD; Atividade 4:</strong> \n",
    "Usando o vetor da Atividade 3, efetue a medida e explique o que acontece.   "
   ]
  },
  {
   "cell_type": "code",
   "execution_count": 38,
   "id": "21d52bd3",
   "metadata": {},
   "outputs": [
    {
     "data": {
      "text/plain": [
       "(np.str_('0'),\n",
       " Statevector([0.4472136+0.89442719j, 0.       +0.j        ],\n",
       "             dims=(2,)))"
      ]
     },
     "execution_count": 38,
     "metadata": {},
     "output_type": "execute_result"
    }
   ],
   "source": [
    "##coloque aqui seu código\n",
    "v.measure()"
   ]
  },
  {
   "cell_type": "markdown",
   "id": "46c7e908",
   "metadata": {},
   "source": [
    "**Insira sua explicação aqui**\n",
    "\n",
    "A medição não foi possível pois o vetor não possui um estado quântico válido."
   ]
  },
  {
   "cell_type": "markdown",
   "id": "b7fb7504",
   "metadata": {},
   "source": [
    "O `Statevector` também vem com um método `sample_counts` que permite a simulação de qualquer número de medições no sistema. Por exemplo, a seguinte célula mostra o resultado de medir o vetor v 1000 vezes, o que (com alta probabilidade) resulta no resultado  0 aproximadamente 5 de cada 9 vezes (ou cerca de 556 dos 1000 testes) e o resultado 1 aproximadamente 4 de cada 9 vezes (ou cerca de 444 dos 1000 testes). A célula também demonstra a função `plot_histogram` para visualizar os resultados."
   ]
  },
  {
   "cell_type": "code",
   "execution_count": 39,
   "id": "e1de7831",
   "metadata": {},
   "outputs": [
    {
     "data": {
      "text/plain": [
       "{np.str_('0'): np.int64(11160), np.str_('1'): np.int64(8840)}"
      ]
     },
     "metadata": {},
     "output_type": "display_data"
    },
    {
     "data": {
      "image/png": "[encoded data removed]",
      "text/plain": [
       "<Figure size 640x480 with 1 Axes>"
      ]
     },
     "execution_count": 39,
     "metadata": {},
     "output_type": "execute_result"
    }
   ],
   "source": [
    "from qiskit.visualization import plot_histogram\n",
    "\n",
    "statistics = v.sample_counts(20000)\n",
    "display(statistics)\n",
    "plot_histogram(statistics)"
   ]
  },
  {
   "cell_type": "markdown",
   "id": "f824f64d",
   "metadata": {},
   "source": [
    "<div class=\"alert alert-success\"> <strong> &#x1F4DD; Atividade 5:</strong> Execute a célula várias utilizando diferentes números de amostras no lugar de 1000. Isso pode ser útil para desenvolver alguma intuição sobre como o número de tentativas influencia as probabilidades estimadas. Relate o que você observou."
   ]
  },
  {
   "cell_type": "markdown",
   "id": "1ebb84c3",
   "metadata": {},
   "source": [
    "**Insira sua explicação aqui**\n",
    "\n",
    "Independente do número de tentaivas a proporcção entre os resultados 0 e 1 se manteve a mesma, ou seja, 5/9 e 4/9 respectivamente. Isso mostra que o número de tentativas não influencia as probabilidades estimadas, mas sim a quantidade de vezes que cada resultado é obtido.\n"
   ]
  },
  {
   "cell_type": "markdown",
   "id": "165d07a5",
   "metadata": {},
   "source": [
    "#### Realizando operações com `Operator` e `Statevector`"
   ]
  },
  {
   "cell_type": "markdown",
   "id": "b7728d9d",
   "metadata": {},
   "source": [
    "Operações unitárias (operadores unitários) podem ser definidas e realizadas em vetores de estado no Qiskit usando a classe `Operator`, como no exemplo a seguir:"
   ]
  },
  {
   "cell_type": "markdown",
   "id": "239e1361",
   "metadata": {},
   "source": [
    "$$X|0\\rangle = |\\phi\\rangle = |1\\rangle$$"
   ]
  },
  {
   "cell_type": "code",
   "execution_count": 40,
   "id": "7c5b9935",
   "metadata": {},
   "outputs": [
    {
     "data": {
      "text/plain": [
       "[0.+0.j,1.+0.j]"
      ]
     },
     "execution_count": 40,
     "metadata": {},
     "output_type": "execute_result"
    }
   ],
   "source": [
    "from qiskit.quantum_info import Operator\n",
    "\n",
    "X = Operator([[0, 1], [1, 0]])\n",
    "ket0 = Statevector([1, 0])\n",
    "q = ket0.evolve(X)\n",
    "\n",
    "\n",
    "q.draw(\"text\")"
   ]
  },
  {
   "cell_type": "markdown",
   "id": "5f1bb43e",
   "metadata": {},
   "source": [
    "<div class=\"alert alert-success\"> <strong> &#x1F4DD; Atividade 6:</strong> Porta de Hadamard H representada pelo operador linear: \n",
    "    \n",
    "$$H=\\frac{1}{\\sqrt2}\\left(\\begin{matrix}1&1\\\\1&-1\\\\\\end{matrix}\\right)$$\n",
    "    \n",
    "Determine:\n",
    "    \n",
    "$$H|1\\rangle$$"
   ]
  },
  {
   "cell_type": "code",
   "execution_count": 41,
   "id": "038f5f66",
   "metadata": {},
   "outputs": [
    {
     "data": {
      "text/plain": [
       "[ 0.70710678+0.j,-0.70710678+0.j]"
      ]
     },
     "execution_count": 41,
     "metadata": {},
     "output_type": "execute_result"
    }
   ],
   "source": [
    "##coloque aqui seu código\n",
    "\n",
    "H = Operator([[ 1/sqrt(2),  1/sqrt(2)],\n",
    "              [ 1/sqrt(2), -1/sqrt(2)]])\n",
    "ket1 = Statevector([0, 1])\n",
    "\n",
    "qbit = ket1.evolve(H)\n",
    "qbit.draw(\"text\")\n"
   ]
  },
  {
   "cell_type": "markdown",
   "id": "fc63bb86",
   "metadata": {},
   "source": [
    "## Introdução aos circuitos quânticos"
   ]
  },
  {
   "cell_type": "markdown",
   "id": "8e803a74",
   "metadata": {},
   "source": [
    "Os circuitos quânticos serão temas das próximas aulas, mas ainda assim podemos observar como implementar circuitos com uma composição de operações unitárias de qubit usando a classe `QuantumCircuit` do Qiskit. Em particular, podemos definir um circuito quântico (que neste caso será simplesmente uma sequência de operações unitárias realizadas em um único qubit) da seguinte forma:"
   ]
  },
  {
   "cell_type": "code",
   "execution_count": 42,
   "id": "df4a72b6",
   "metadata": {},
   "outputs": [
    {
     "data": {
      "image/png": "[encoded data removed]",
      "text/plain": [
       "<Figure size 519.897x117.056 with 1 Axes>"
      ]
     },
     "execution_count": 42,
     "metadata": {},
     "output_type": "execute_result"
    }
   ],
   "source": [
    "from qiskit import QuantumCircuit\n",
    "\n",
    "circuit = QuantumCircuit(1)\n",
    "\n",
    "circuit.h(0)\n",
    "circuit.t(0)\n",
    "circuit.h(0)\n",
    "circuit.t(0)\n",
    "circuit.z(0)\n",
    "\n",
    "circuit.draw('mpl')"
   ]
  },
  {
   "cell_type": "markdown",
   "id": "bd7ca2e0",
   "metadata": {},
   "source": [
    "As operações são aplicadas sequencialmente, começando à esquerda e terminando à direita na figura. Vamos primeiro inicializar um vetor de estado quântico inicial e depois evoluir esse estado de acordo com a sequência de operações."
   ]
  },
  {
   "cell_type": "code",
   "execution_count": 43,
   "id": "076a7bfd",
   "metadata": {},
   "outputs": [
    {
     "data": {
      "text/latex": [
       "$$(0.8535533906 + 0.3535533906 i) |0\\rangle+(-0.3535533906 + 0.1464466094 i) |1\\rangle$$"
      ],
      "text/plain": [
       "<IPython.core.display.Latex object>"
      ]
     },
     "execution_count": 43,
     "metadata": {},
     "output_type": "execute_result"
    }
   ],
   "source": [
    "ket0 = Statevector([1, 0])\n",
    "v = ket0.evolve(circuit)\n",
    "v.draw(\"latex\")"
   ]
  },
  {
   "cell_type": "markdown",
   "id": "e261a564",
   "metadata": {},
   "source": [
    "Por fim, vamos simular o resultado de executar este experimento, aplicando a sequência de operações representada pelo circuito e fazer a medição 4000 vezes."
   ]
  },
  {
   "cell_type": "code",
   "execution_count": 44,
   "id": "305edc9d",
   "metadata": {},
   "outputs": [
    {
     "data": {
      "image/png": "[encoded data removed]",
      "text/plain": [
       "<Figure size 640x480 with 1 Axes>"
      ]
     },
     "execution_count": 44,
     "metadata": {},
     "output_type": "execute_result"
    }
   ],
   "source": [
    "statistics = v.sample_counts(4000)\n",
    "plot_histogram(statistics)"
   ]
  },
  {
   "cell_type": "markdown",
   "id": "56296d53",
   "metadata": {},
   "source": [
    "<div class=\"alert alert-success\"> <strong> &#x1F4DD; Atividade 7:</strong> Considere a porta H respresentada no código abaixo. Desenvolva o código para executar este experimento, aplicando a sequência de operações representada pelo circuito e fazer uma medição de 5000 vezes. Interprete o resultado."
   ]
  },
  {
   "cell_type": "code",
   "execution_count": 45,
   "id": "ff0feb3b",
   "metadata": {},
   "outputs": [
    {
     "data": {
      "image/png": "[encoded data removed]",
      "text/plain": [
       "<Figure size 185.453x117.056 with 1 Axes>"
      ]
     },
     "execution_count": 45,
     "metadata": {},
     "output_type": "execute_result"
    }
   ],
   "source": [
    "from qiskit.quantum_info import Statevector\n",
    "from qiskit import QuantumCircuit\n",
    "\n",
    "# Criar um estado inicial |0⟩\n",
    "state = Statevector([1, 0])\n",
    "\n",
    "# Criar um circuito quântico com a porta Hadamard\n",
    "circuit = QuantumCircuit(1)\n",
    "circuit.h(0)\n",
    "circuit.draw('mpl')"
   ]
  },
  {
   "cell_type": "code",
   "execution_count": 46,
   "id": "e99d0d1f",
   "metadata": {},
   "outputs": [
    {
     "data": {
      "image/png": "[encoded data removed]",
      "text/plain": [
       "<Figure size 640x480 with 1 Axes>"
      ]
     },
     "execution_count": 46,
     "metadata": {},
     "output_type": "execute_result"
    }
   ],
   "source": [
    "# coloque aqui seu código\n",
    "\n",
    "\n",
    "final_state = state.evolve(circuit)\n",
    "\n",
    "\n",
    "counts = final_state.sample_counts(shots=5000)\n",
    "\n",
    "plot_histogram(counts)\n"
   ]
  },
  {
   "cell_type": "markdown",
   "id": "b53c498d",
   "metadata": {},
   "source": [
    "**Insira sua explicação aqui**\n",
    "\n",
    "Após a aplicação da porta H, o resultado foi 0 e 1 com a mesma probabilidade, ou seja, 50% para cada um. Isso mostra que a porta H é uma porta de Hadamard que transforma o estado |0⟩ em uma superposição igual de |0⟩ e |1⟩. Portanto, a medição do qubit após a aplicação da porta H resulta em 0 ou 1 com igual probabilidade."
   ]
  }
 ],
 "metadata": {
  "kernelspec": {
   "display_name": "venv",
   "language": "python",
   "name": "python3"
  },
  "language_info": {
   "codemirror_mode": {
    "name": "ipython",
    "version": 3
   },
   "file_extension": ".py",
   "mimetype": "text/x-python",
   "name": "python",
   "nbconvert_exporter": "python",
   "pygments_lexer": "ipython3",
   "version": "3.12.9"
  }
 },
 "nbformat": 4,
 "nbformat_minor": 5
}
