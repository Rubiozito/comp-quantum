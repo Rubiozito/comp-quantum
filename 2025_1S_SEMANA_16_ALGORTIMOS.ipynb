{
 "cells": [
  {
   "cell_type": "markdown",
   "id": "a0f9fc65",
   "metadata": {},
   "source": [
    "<img src= \"https://maua.br/images/logo-IMT.png\" width=250>"
   ]
  },
  {
   "cell_type": "markdown",
   "id": "cf4b175c",
   "metadata": {},
   "source": [
    "#  <center> <font color=#023e8a>  **ECM797: Introdução à Computação Quântica**  <center>\n",
    " <center> Prof. Sandro Martini <center>\n",
    "\n",
    "## <center>  Semana 16: Qiskit - Algoritmo de Deutsch"
   ]
  },
  {
   "cell_type": "markdown",
   "id": "edccda02",
   "metadata": {},
   "source": [
    "## Nome: Rafael Rubio 20.00611-0"
   ]
  },
  {
   "cell_type": "markdown",
   "id": "3d41bd72",
   "metadata": {},
   "source": [
    "## Objetivos:"
   ]
  },
  {
   "cell_type": "markdown",
   "id": "260af190",
   "metadata": {},
   "source": [
    "- Compreender as principais diferenças entre computação clássica e quântica.\n",
    "- Identificar problemas que podem ser resolvidos mais eficientemente com computadores quânticos.\n",
    "- Explorar os princípios básicos por trás de alguns dos primeiros algoritmos quânticos."
   ]
  },
  {
   "cell_type": "markdown",
   "id": "f60bea0c",
   "metadata": {},
   "source": [
    "## Introdução \n",
    "\n",
    "Desde a invenção dos primeiros computadores, a tecnologia evoluiu drasticamente, levando-nos à beira de uma nova era: a era da computação quântica. Diferentemente dos computadores clássicos, que usam bits como a menor unidade de dados, os computadores quânticos utilizam qubits, que podem existir simultaneamente em múltiplos estados.\n",
    "\n",
    "### Vantagens dos Computadores Quânticos:\n",
    "\n",
    "1. Os computadores quânticos têm o potencial de resolver certos problemas muito mais rapidamente do que seus equivalentes clássicos. Por exemplo, eles podem acelerar significativamente tarefas como fatoração de grandes números e pesquisa em bancos de dados não estruturados.\n",
    "\n",
    "2. Neste notebook, vamos introduzir um modelo simplificado para entender como funcionam os algoritmos quânticos e explorar alguns dos primeiros algoritmos desenvolvidos, como o algoritmo de Shor e o de Grover, que demonstram a aceleração promissora dos computadores quântico"
   ]
  },
  {
   "cell_type": "markdown",
   "id": "00978fcb",
   "metadata": {},
   "source": [
    "## O modelo de consulta de computação\n",
    "\n",
    "O modelo de consulta de computação oferece uma abordagem simplificada, mas poderosa, para entender como os algoritmos quânticos operam. Neste modelo, não se assume que a entrada completa do algoritmo está prontamente disponível; ao contrário, as informações são acessadas através de uma **função oracular**, comumente referida como uma \"caixa preta\". Os algoritmos fazem perguntas a essa caixa preta para aprender sobre o valor da função em diferentes pontos de entrada.\n",
    "\n",
    "![Fig](https://learning-api.quantum.ibm.com/assets/5deb8c38-5319-4b02-bcec-ca1187ac4df2?format=auto&quality=80)\n",
    "\n",
    "**Por que isso é útil?** Esse modelo permite aos pesquisadores focar na eficiência com que um algoritmo quântico pode obter informações, minimizando o número de consultas necessárias. Por exemplo, no algoritmo de Grover, usado para busca em uma lista desordenada, o modelo de consulta destaca como um algoritmo quântico pode alcançar uma vantagem quadrática sobre algoritmos clássicos.\n",
    "\n",
    "**Exemplo Prático:**\n",
    "Imagine um jogo onde você deve adivinhar um número de 1 a 100, e você só pode perguntar \"o número é maior ou menor que X?\". Em um computador clássico, você pode precisar de até 100 perguntas no pior caso, mas um algoritmo quântico pode reduzir significativamente esse número de consultas.\n",
    "\n",
    "Cada consulta feita à caixa preta conta como um passo no algoritmo. O objetivo é minimizar o número de consultas necessárias para resolver um problema, demonstrando assim a eficiência de um algoritmo quântico comparado aos clássicos.\n",
    "\n",
    "**Exemplos de Problemas de Consulta:**\n",
    "\n",
    "1. **OR**: Este problema envolve determinar se existe ao menos uma entrada que faz a função retornar 1. Imagine uma lista de lâmpadas, onde a função verifica se uma lâmpada específica está acesa (retorna 1) ou apagada (retorna 0). O desafio é encontrar pelo menos uma lâmpada acesa com o menor número de consultas.\n",
    "\n",
    "2. **Paridade**: O objetivo aqui é determinar se o número de entradas que fazem a função retornar 1 é par ou ímpar. Isso pode ser visualizado como contar quantas pessoas em um grupo estão vestindo chapéus sem ter que verificar cada pessoa individualmente.\n",
    "\n",
    "3. **Mínimo**: Busca-se encontrar a menor entrada, em termos lexicográficos, que faz a função retornar um certo valor. Por exemplo, se a função verifica qual produto tem o menor preço em uma lista, o algoritmo quântico pode encontrar o produto mais barato mais rapidamente do que um algoritmo clássico.\n",
    "\n",
    "Este modelo simplificado é fundamental para entender as vantagens potenciais da computação quântica. Ele destaca como algoritmos quânticos, utilizando princípios de superposição e entrelaçamento, podem resolver problemas com significativamente menos consultas do que seria possível com algoritmos clássicos.\n"
   ]
  },
  {
   "cell_type": "markdown",
   "id": "1f32964b",
   "metadata": {},
   "source": [
    "<div class=\"alert alert-warning\"> <strong> &#x1F4DD; Atividade 1</strong>:\n",
    "\n",
    "**Obs.:** Neste exercício, o mais importante não é a resposta certa ou errada, mas sim a sua reflexão e a discussão que cada questão pode gerar.  \n",
    "    \n",
    "    \n",
    "\n",
    "Considere o exemplo prático do problema \"OR\" descrito no modelo de consulta de computação, onde uma função oracular verifica se uma lâmpada específica em uma lista de lâmpadas está acesa ou apagada. Suponha que você tenha uma lista de 8 lâmpadas, e você precisa determinar se ao menos uma lâmpada está acesa usando o menor número de consultas possível.\n",
    "\n",
    "**Parte A**: Descreva como um algoritmo clássico abordaria este problema e estime o número máximo de consultas necessárias para garantir que você encontre ao menos uma lâmpada acesa no pior caso.\n",
    "\n",
    "**Parte B**: Explique como um algoritmo quântico poderia potencialmente reduzir o número de consultas necessárias para resolver o mesmo problema, utilizando o modelo de consulta de computação. Referencie os princípios de superposição e entrelaçamento para justificar sua resposta.\n",
    "\n",
    "**Parte C**: Considerando o conceito de eficiência discutido, por que é vantajoso usar um algoritmo quântico para este tipo de problema de consulta? Discuta as implicações práticas dessa vantagem em termos de velocidade e consumo de recursos."
   ]
  },
  {
   "cell_type": "markdown",
   "id": "dc913e44",
   "metadata": {},
   "source": [
    "**Respostas:**  \n",
    "*A*: Um algoritmo clássico verificaria as lâmpadas uma a uma, podendo levar até 8 consultas no pior caso \n",
    "\n",
    "*B*: Um algoritmo quântico poderia usar superposição para verificar todas as lâmpadas simultaneamente, reduzindo o número de consultas necessárias.\n",
    "\n",
    "*C*: A vantagem de usar um algoritmo quântico é a redução significativa no número de consultas, o que pode levar a uma solução mais rápida e eficiente em termos de recursos computacionais."
   ]
  },
  {
   "cell_type": "markdown",
   "id": "192c5db5",
   "metadata": {},
   "source": [
    "## Algoritmo de Deutsch\n",
    "\n",
    "O problema de Deutsch é um exemplo clássico de um  algoritmo quântico. Neste cenário, uma função opera sobre um único bit de entrada e retorna um bit de saída. Existem quatro funções possíveis aqui:\n",
    "\n",
    "**Duas funções constantes**: uma que sempre retorna 0 e outra que sempre retorna 1.  \n",
    "**Duas funções balanceadas**: cada uma retorna 0 e 1 com a mesma frequência.\n",
    "\n",
    "**Objetivo do Problema:**\n",
    "O objetivo é determinar se a função dada é constante ou balanceada. Um algoritmo quântico pode descobrir isso com uma única consulta à função, enquanto um algoritmo clássico precisaria de duas consultas para ter certeza.\n",
    "\n",
    "### Funcionamento do Algoritmo de Deutsch:\n",
    "\n",
    "1. **Inicialização**: Começa com dois qubits no estado inicial ∣0⟩ ∣1⟩.\n",
    "2. **Transformações Quânticas**: Aplica uma série de transformações, incluindo uma consulta à função oracular.\n",
    "3. **Medição**: O estado final do primeiro qubit é medido para determinar a natureza da função.\n",
    "\n",
    "Durante esse processo, o algoritmo utiliza a superposição quântica para avaliar a função em ambos os estados de entrada (0 e 1) simultaneamente, o que permite determinar a natureza da função com apenas uma consulta.\n",
    "\n",
    "**Exemplo Prático**:\n",
    "Suponha que a função seja uma das constantes, digamos, sempre retornando 1. Após a transformação e consulta no estado superposto, a medição do primeiro qubit revelará informações que confirmam a natureza constante da função, tudo isso em uma única etapa.\n",
    "\n",
    "Embora o problema de Deutsch seja simples, ele ilustra uma vantagem fundamental da computação quântica sobre a clássica em resolver certos tipos de problemas de maneira mais eficiente.\n"
   ]
  },
  {
   "cell_type": "markdown",
   "id": "3845c334",
   "metadata": {},
   "source": [
    "### Implementação das Portas de Consulta no Algoritmo de Deutsch\n",
    "\n",
    "Nesta seção, vamos definir um circuito quântico que implementa uma porta de consulta para uma das quatro funções oraculares de um bit, $f_{\\small 1}$, $f_{\\small 2}$, $f_{\\small 3}$, $f_{\\small 4}$. No problema de Deutsch, você tem quatro possíveis funções de um bit:\n",
    "\n",
    "1. Função constante que sempre retorna 0: $f_{\\small 1}$ \n",
    "2. Função constante que sempre retorna 1: $f_{\\small 2}$\n",
    "3. Função balanceada que retorna 0 para uma entrada e 1 para outra: $f_{\\small 3}$\n",
    "4. Função balanceada que retorna 1 para uma entrada e 0 para outra: $f_{\\small 4}$\n",
    "\n",
    "A implementação das portas de consulta não é parte intrínseca do algoritmo de Deutsch, mas é essencial para entender como preparar as entradas em um circuito quântico. Esta preparação é crucial porque permite explorar propriedades como a superposição e o entrelaçamento, fundamentais para a computação quântica. Mostraremos como cada porta de consulta é construída e como ela prepara o estado do sistema para ser usado pelo algoritmo de Deutsch.\n",
    "\n",
    "### Implementação das Portas\n",
    "\n",
    "1. **Portas de Identidade** e **NOT (X)**: Uma porta de identidade não altera o estado do qubit (deixa 0 como 0 e 1 como 1), e a porta NOT inverte o estado do qubit (torna 0 em 1 e 1 em 0).\n",
    "2. **Porta CNOT (CX)**: Uma porta CNOT ou porta controlada-NOT, altera o estado do segundo qubit (qubit de destino) se o primeiro qubit (qubit de controle) estiver no estado 1.\n",
    "\n",
    "### Relação entre Funções e Portas\n",
    "\n",
    "1. $f_{\\small 1}$ (constante 0): Não requer nenhuma porta específica, pois o oráculo não altera o estado de saída, independentemente do estado de entrada. O qubit de saída permanece no estado padrão que é 0.\n",
    "\n",
    "2. $f_{\\small 2}$ (constante 1): UUtiliza a porta NOT (X) no qubit de saída para garantir que ele sempre retorne 1, independentemente do estado de entrada.\n",
    "\n",
    "3. $f_{\\small 3}$ (balanceada): Utiliza a porta CNOT onde o primeiro qubit é o controle e o segundo é o alvo. Esta configuração faz com que o qubit de saída copie o valor do qubit de entrada, refletindo diretamente o estado do qubit de controle.\n",
    "\n",
    "4. $f_{\\small 4}$ (balanceada): Similar a  $f_{\\small 3}$, mas com uma porta NOT (X) adicional aplicada após a CNOT no qubit de saída. Isso inverte o valor copiado pelo CNOT, resultando em um qubit de saída que é o oposto do qubit de entrada."
   ]
  },
  {
   "cell_type": "code",
   "execution_count": 2,
   "id": "2c9eb766",
   "metadata": {},
   "outputs": [],
   "source": [
    "from qiskit import QuantumCircuit\n",
    "\n",
    "def deutsch_function(case: int):\n",
    "    \"\"\"\n",
    "    Generate a valid Deutsch function as a `QuantumCircuit`.\n",
    "    - case 1: Constant function that always returns 0.\n",
    "    - case 2: Constant function that always returns 1.\n",
    "    - case 3: Balanced function that outputs the same as the input.\n",
    "    - case 4: Balanced function that outputs the opposite of the input.\n",
    "    \"\"\"\n",
    "    if case not in [1, 2, 3, 4]:\n",
    "        raise ValueError(\"`case` must be 1, 2, 3, or 4.\")\n",
    "\n",
    "    f = QuantumCircuit(2)\n",
    "    # Case 2: Apply NOT gate to ensure it always returns 1.\n",
    "    if case == 2:\n",
    "        f.x(1)\n",
    "    # Case 3: Apply CNOT to copy the input to the output.\n",
    "    if case == 3:\n",
    "        f.cx(0, 1)\n",
    "    # Case 4: Apply CNOT followed by NOT gate to invert the input.\n",
    "    if case == 4:\n",
    "        f.cx(0, 1)\n",
    "        f.x(1)\n",
    "    return f"
   ]
  },
  {
   "cell_type": "markdown",
   "id": "3e7365fc",
   "metadata": {},
   "source": [
    "<div class=\"alert alert-success\"> <strong> &#x1F4DD; Atividade 2:</strong> Utilize a função `deutsch_function` para mostrar a configuração das portas quânticas em cada caso. Lembre que: `display(deutsch_function(i).draw())`"
   ]
  },
  {
   "cell_type": "code",
   "execution_count": 10,
   "id": "32aa6e9b",
   "metadata": {},
   "outputs": [
    {
     "data": {
      "text/html": [
       "<pre style=\"word-wrap: normal;white-space: pre;background: #fff0;line-height: 1.1;font-family: &quot;Courier New&quot;,Courier,monospace\">     \n",
       "q_0: \n",
       "     \n",
       "q_1: \n",
       "     </pre>"
      ],
      "text/plain": [
       "     \n",
       "q_0: \n",
       "     \n",
       "q_1: \n",
       "     "
      ]
     },
     "metadata": {},
     "output_type": "display_data"
    }
   ],
   "source": [
    "#Coloque seu código aqui\n",
    "circuit_f1 = deutsch_function(1)\n",
    "display(circuit_f1.draw())"
   ]
  },
  {
   "cell_type": "code",
   "execution_count": 4,
   "id": "1eb302b6",
   "metadata": {},
   "outputs": [
    {
     "data": {
      "text/html": [
       "<pre style=\"word-wrap: normal;white-space: pre;background: #fff0;line-height: 1.1;font-family: &quot;Courier New&quot;,Courier,monospace\">          \n",
       "q_0: ─────\n",
       "     ┌───┐\n",
       "q_1: ┤ X ├\n",
       "     └───┘</pre>"
      ],
      "text/plain": [
       "          \n",
       "q_0: ─────\n",
       "     ┌───┐\n",
       "q_1: ┤ X ├\n",
       "     └───┘"
      ]
     },
     "metadata": {},
     "output_type": "display_data"
    }
   ],
   "source": [
    "#Coloque seu código \n",
    "circuit_f2 = deutsch_function(2)\n",
    "display(circuit_f2.draw())"
   ]
  },
  {
   "cell_type": "code",
   "execution_count": 5,
   "id": "a02f3f28",
   "metadata": {},
   "outputs": [
    {
     "data": {
      "text/html": [
       "<pre style=\"word-wrap: normal;white-space: pre;background: #fff0;line-height: 1.1;font-family: &quot;Courier New&quot;,Courier,monospace\">          \n",
       "q_0: ──■──\n",
       "     ┌─┴─┐\n",
       "q_1: ┤ X ├\n",
       "     └───┘</pre>"
      ],
      "text/plain": [
       "          \n",
       "q_0: ──■──\n",
       "     ┌─┴─┐\n",
       "q_1: ┤ X ├\n",
       "     └───┘"
      ]
     },
     "metadata": {},
     "output_type": "display_data"
    }
   ],
   "source": [
    "#Coloque seu código aqui\n",
    "circuit_f3 = deutsch_function(3)\n",
    "display(circuit_f3.draw())"
   ]
  },
  {
   "cell_type": "code",
   "execution_count": 12,
   "id": "5758a41f",
   "metadata": {},
   "outputs": [
    {
     "data": {
      "text/html": [
       "<pre style=\"word-wrap: normal;white-space: pre;background: #fff0;line-height: 1.1;font-family: &quot;Courier New&quot;,Courier,monospace\">               \n",
       "q_0: ──■───────\n",
       "     ┌─┴─┐┌───┐\n",
       "q_1: ┤ X ├┤ X ├\n",
       "     └───┘└───┘</pre>"
      ],
      "text/plain": [
       "               \n",
       "q_0: ──■───────\n",
       "     ┌─┴─┐┌───┐\n",
       "q_1: ┤ X ├┤ X ├\n",
       "     └───┘└───┘"
      ]
     },
     "metadata": {},
     "output_type": "display_data"
    }
   ],
   "source": [
    "#Coloque seu código aqui\n",
    "circuit_f4 = deutsch_function(4)\n",
    "display(circuit_f4.draw())"
   ]
  },
  {
   "cell_type": "markdown",
   "id": "b7b9120f",
   "metadata": {},
   "source": [
    "### Implementação do Circuito Quântico do Algoritmo de Deutsch\n",
    "\n",
    "Agora, vamos construir o circuito quântico completo para o Algoritmo de Deutsch, integrando a porta de consulta que simula as funções oraculares $f_{\\small 1}$, $f_{\\small 2}$, $f_{\\small 3}$, $f_{\\small 4}$. Utilizaremos a função `deutsch_function` que definimos anteriormente para gerar a porta de consulta desejada.\n",
    "\n",
    "### Passos para a Construção do Circuito\n",
    "\n",
    "1. **Inicialização**: Todos os qubits são inicialmente preparados no estado ∣0⟩.\n",
    "2. **Implementação da Porta de Consulta**: Inserimos o circuito quântico $U_f$ correspondente à função desejada. Este circuito atua como uma \"caixa preta\" que manipula os estados quânticos de acordo com a função oracular específica.\n",
    "3. **Barreiras Quânticas**: Incluímos barreiras após a implementação da porta de consulta para proporcionar uma separação visual clara entre as diferentes seções do circuito. Embora as barreiras não afetem a funcionalidade do circuito, elas ajudam na organização e na compreensão do fluxo quântico ao visualizar o circuito. Se preferir um circuito visualmente mais simples, estas barreiras podem ser removidas sem alterar o comportamento do circuito.\n",
    "\n",
    "### Importante !!!\n",
    "\n",
    "A intenção de um algoritmo de consulta é apenas analisar a capacidade de um computador quântico, posto que o operador Oráculo é fornecido. \n",
    "\n",
    "### Conexão dos Circuitos de Consulta\n",
    "\n",
    "Conectaremos um dos quatro circuitos definidos pela função `deutsch_function` como argumento ao nosso circuito principal. Isso nos permitirá observar como o Algoritmo de Deutsch determina se a função oracular é constante ou balanceada com apenas uma consulta quântica. A figura abaixo mostra o circuito que descreve o algoritmo de Deutsch. \n",
    "\n",
    "![Fig](https://learning-api.quantum.ibm.com/assets/3e4f0638-9f66-4276-9d42-285f92b4f8cf?format=auto&quality=80)"
   ]
  },
  {
   "cell_type": "markdown",
   "id": "903b2505",
   "metadata": {},
   "source": [
    "### Entendendo Circuito \n",
    "\n",
    "Configuração do circuito:\n",
    "\n",
    "1. **Preparação**: preparação dos qubits.\n",
    "2. **Primeira Barreira**: indica o fim da preparação inicial.\n",
    "3. **Circuito Oracular**: aplicação da função oracular $U_f$.\n",
    "4. **Segunda Barreira**: indica o fim da função oracular.\n",
    "5. **Finalização**: medidas são aplicadas para concluir o algoritmo."
   ]
  },
  {
   "cell_type": "markdown",
   "id": "2ec952fc",
   "metadata": {},
   "source": [
    "### Entendendo os Qubits no Algoritmo\n",
    "\n",
    "Para esse algoritmo, geralmente são utilizados dois qubits:\n",
    "\n",
    "- **qubit_0** (qubit de entrada): é usado para representar o bit de entrada para a função oracular.\n",
    "- **qubit_1** (qubit auxiliar): é preparado em um estado particular para permitir que a operação oracular seja implementada de maneira que suas propriedades possam ser exploradas com eficácia pelo algoritmo."
   ]
  },
  {
   "cell_type": "markdown",
   "id": "5573808b",
   "metadata": {},
   "source": [
    "<div class=\"alert alert-warning\"> <strong> &#x1F4DD; Atividade 3</strong>: Por que portas Hadamard foram adicionadas após cada qubit?\n"
   ]
  },
  {
   "cell_type": "markdown",
   "id": "73154dd1",
   "metadata": {},
   "source": [
    "**Resposta:** as portas Hadamard são importantes para explorar todas as entradas simultaneamente e depois extrair a resposta com interferência quântica, demonstrando a vantagem do algoritmo sobre qualquer abordagem clássica."
   ]
  },
  {
   "cell_type": "markdown",
   "id": "0fd135d5",
   "metadata": {},
   "source": [
    "<div class=\"alert alert-warning\"> <strong> &#x1F4DD; Atividade 4</strong>: Por que a porta Hadamard é reaplicada apenas no qubit 0 após a segunda barreira?\n"
   ]
  },
  {
   "cell_type": "markdown",
   "id": "35c9388e",
   "metadata": {},
   "source": [
    "**Resposta:** só precisamos manipular e medir q₀ para saber se a função é constante (medimos 0) ou balanceada (medimos 1). O qubit auxiliar cumpriu seu papel ao carregar a fase durante a aplicação do oráculo e pode ser ignorado depois."
   ]
  },
  {
   "cell_type": "markdown",
   "id": "53b0fade",
   "metadata": {},
   "source": [
    "### Visualizando o Circuito Oracular\n",
    "\n"
   ]
  },
  {
   "cell_type": "code",
   "execution_count": 13,
   "id": "6f5b83c6",
   "metadata": {},
   "outputs": [],
   "source": [
    "def compile_circuit(function: QuantumCircuit):\n",
    "    \"\"\"\n",
    "    Compiles a circuit for use in Deutsch's algorithm.\n",
    "    \"\"\"\n",
    "    n = function.num_qubits - 1\n",
    "    qc = QuantumCircuit(n + 1, n)\n",
    "\n",
    "    qc.x(n)\n",
    "    qc.h(range(n + 1))\n",
    "\n",
    "    qc.barrier()\n",
    "    qc.compose(function, inplace=True)\n",
    "    qc.barrier()\n",
    "\n",
    "    qc.h(range(n))\n",
    "    qc.measure(range(n), range(n))\n",
    "\n",
    "    return qc"
   ]
  },
  {
   "cell_type": "code",
   "execution_count": 14,
   "id": "19b0036a",
   "metadata": {},
   "outputs": [
    {
     "name": "stdout",
     "output_type": "stream",
     "text": [
      "     ┌───┐      ░  ░ ┌───┐┌─┐\n",
      "q_0: ┤ H ├──────░──░─┤ H ├┤M├\n",
      "     ├───┤┌───┐ ░  ░ └───┘└╥┘\n",
      "q_1: ┤ X ├┤ H ├─░──░───────╫─\n",
      "     └───┘└───┘ ░  ░       ║ \n",
      "c: 1/══════════════════════╩═\n",
      "                           0 \n"
     ]
    }
   ],
   "source": [
    "oracle_circuit = deutsch_function(1)\n",
    "deutsch_circuit = compile_circuit(oracle_circuit)\n",
    "print(deutsch_circuit.draw())"
   ]
  },
  {
   "cell_type": "markdown",
   "id": "2ce8a43c",
   "metadata": {},
   "source": [
    "<div class=\"alert alert-success\"> <strong> &#x1F4DD; Atividade 5:</strong> A partir do exemplo anterior, mostre a respresentação dos demais circuitos."
   ]
  },
  {
   "cell_type": "code",
   "execution_count": 18,
   "id": "5277d31a",
   "metadata": {},
   "outputs": [
    {
     "data": {
      "text/html": [
       "<pre style=\"word-wrap: normal;white-space: pre;background: #fff0;line-height: 1.1;font-family: &quot;Courier New&quot;,Courier,monospace\">     ┌───┐      ░       ░ ┌───┐┌─┐\n",
       "q_0: ┤ H ├──────░───────░─┤ H ├┤M├\n",
       "     ├───┤┌───┐ ░ ┌───┐ ░ └───┘└╥┘\n",
       "q_1: ┤ X ├┤ H ├─░─┤ X ├─░───────╫─\n",
       "     └───┘└───┘ ░ └───┘ ░       ║ \n",
       "c: 1/═══════════════════════════╩═\n",
       "                                0 </pre>"
      ],
      "text/plain": [
       "     ┌───┐      ░       ░ ┌───┐┌─┐\n",
       "q_0: ┤ H ├──────░───────░─┤ H ├┤M├\n",
       "     ├───┤┌───┐ ░ ┌───┐ ░ └───┘└╥┘\n",
       "q_1: ┤ X ├┤ H ├─░─┤ X ├─░───────╫─\n",
       "     └───┘└───┘ ░ └───┘ ░       ║ \n",
       "c: 1/═══════════════════════════╩═\n",
       "                                0 "
      ]
     },
     "metadata": {},
     "output_type": "display_data"
    }
   ],
   "source": [
    "#Coloque seu código aqui\n",
    "oracle_circuit = deutsch_function(2)\n",
    "deutsch_circuit = compile_circuit(oracle_circuit)\n",
    "display(deutsch_circuit.draw())"
   ]
  },
  {
   "cell_type": "code",
   "execution_count": 19,
   "id": "6ea803bc",
   "metadata": {},
   "outputs": [
    {
     "data": {
      "text/html": [
       "<pre style=\"word-wrap: normal;white-space: pre;background: #fff0;line-height: 1.1;font-family: &quot;Courier New&quot;,Courier,monospace\">     ┌───┐      ░       ░ ┌───┐┌─┐\n",
       "q_0: ┤ H ├──────░───■───░─┤ H ├┤M├\n",
       "     ├───┤┌───┐ ░ ┌─┴─┐ ░ └───┘└╥┘\n",
       "q_1: ┤ X ├┤ H ├─░─┤ X ├─░───────╫─\n",
       "     └───┘└───┘ ░ └───┘ ░       ║ \n",
       "c: 1/═══════════════════════════╩═\n",
       "                                0 </pre>"
      ],
      "text/plain": [
       "     ┌───┐      ░       ░ ┌───┐┌─┐\n",
       "q_0: ┤ H ├──────░───■───░─┤ H ├┤M├\n",
       "     ├───┤┌───┐ ░ ┌─┴─┐ ░ └───┘└╥┘\n",
       "q_1: ┤ X ├┤ H ├─░─┤ X ├─░───────╫─\n",
       "     └───┘└───┘ ░ └───┘ ░       ║ \n",
       "c: 1/═══════════════════════════╩═\n",
       "                                0 "
      ]
     },
     "metadata": {},
     "output_type": "display_data"
    }
   ],
   "source": [
    "#Coloque seu código aqui\n",
    "oracle_circuit = deutsch_function(3)\n",
    "deutsch_circuit = compile_circuit(oracle_circuit)\n",
    "display(deutsch_circuit.draw())"
   ]
  },
  {
   "cell_type": "code",
   "execution_count": 20,
   "id": "3d4d2f7b",
   "metadata": {},
   "outputs": [
    {
     "data": {
      "text/html": [
       "<pre style=\"word-wrap: normal;white-space: pre;background: #fff0;line-height: 1.1;font-family: &quot;Courier New&quot;,Courier,monospace\">     ┌───┐      ░            ░ ┌───┐┌─┐\n",
       "q_0: ┤ H ├──────░───■────────░─┤ H ├┤M├\n",
       "     ├───┤┌───┐ ░ ┌─┴─┐┌───┐ ░ └───┘└╥┘\n",
       "q_1: ┤ X ├┤ H ├─░─┤ X ├┤ X ├─░───────╫─\n",
       "     └───┘└───┘ ░ └───┘└───┘ ░       ║ \n",
       "c: 1/════════════════════════════════╩═\n",
       "                                     0 </pre>"
      ],
      "text/plain": [
       "     ┌───┐      ░            ░ ┌───┐┌─┐\n",
       "q_0: ┤ H ├──────░───■────────░─┤ H ├┤M├\n",
       "     ├───┤┌───┐ ░ ┌─┴─┐┌───┐ ░ └───┘└╥┘\n",
       "q_1: ┤ X ├┤ H ├─░─┤ X ├┤ X ├─░───────╫─\n",
       "     └───┘└───┘ ░ └───┘└───┘ ░       ║ \n",
       "c: 1/════════════════════════════════╩═\n",
       "                                     0 "
      ]
     },
     "metadata": {},
     "output_type": "display_data"
    }
   ],
   "source": [
    "#Coloque seu código aqui\n",
    "oracle_circuit = deutsch_function(4)\n",
    "deutsch_circuit = compile_circuit(oracle_circuit)\n",
    "display(deutsch_circuit.draw())"
   ]
  },
  {
   "cell_type": "markdown",
   "id": "966fcfe6",
   "metadata": {},
   "source": [
    "### Executando o Circuito\n",
    "\n",
    "Finalmente, criaremos uma função que execute o circuito definido apenas uma vez e produza o resultado apropriado: “constante” ou “equilibrado”\n",
    "\n"
   ]
  },
  {
   "cell_type": "code",
   "execution_count": 21,
   "id": "19e6b66a",
   "metadata": {},
   "outputs": [],
   "source": [
    "from qiskit_aer import AerSimulator\n",
    "\n",
    "def deutsch_algorithm(function: QuantumCircuit):\n",
    "    \"\"\"\n",
    "    Determine if a Deutsch function is constant or balanced.\n",
    "    \"\"\"\n",
    "    qc = compile_circuit(function)\n",
    "\n",
    "    result = AerSimulator().run(qc, shots=1, memory=True).result()\n",
    "    measurements = result.get_memory()\n",
    "    print(\"Resultados medidos:\", measurements)\n",
    "    if measurements[0] == \"0\":\n",
    "        return \"constante\"  # Se todos os qubits medidos são 0, a função é constante.\n",
    "    return \"balanceada\"     # Qualquer outra medição indica que a função é balanceada"
   ]
  },
  {
   "cell_type": "markdown",
   "id": "bafe3309",
   "metadata": {},
   "source": [
    "### Resultado\n",
    "\n",
    "A célula de código a seguir executa o Algoritmo de Deutsch utilizando a função `deutsch_function` para gerar uma das quatro funções oraculares definidas. Isso permite testar a capacidade do algoritmo em determinar se cada função é constante ou balanceada com apenas **uma consulta quântica**.\n",
    "\n",
    "- Se todos os resultados medidos são 0 (após a aplicação da segunda Hadamard e medição), então a função é constante.\n",
    "- Se há qualquer outro resultado, então a função é balanceada."
   ]
  },
  {
   "cell_type": "code",
   "execution_count": 22,
   "id": "cce84c55",
   "metadata": {},
   "outputs": [
    {
     "data": {
      "text/html": [
       "<pre style=\"word-wrap: normal;white-space: pre;background: #fff0;line-height: 1.1;font-family: &quot;Courier New&quot;,Courier,monospace\">               \n",
       "q_0: ──■───────\n",
       "     ┌─┴─┐┌───┐\n",
       "q_1: ┤ X ├┤ X ├\n",
       "     └───┘└───┘</pre>"
      ],
      "text/plain": [
       "               \n",
       "q_0: ──■───────\n",
       "     ┌─┴─┐┌───┐\n",
       "q_1: ┤ X ├┤ X ├\n",
       "     └───┘└───┘"
      ]
     },
     "metadata": {},
     "output_type": "display_data"
    },
    {
     "name": "stdout",
     "output_type": "stream",
     "text": [
      "Resultados medidos: ['1']\n"
     ]
    },
    {
     "data": {
      "text/plain": [
       "'balanceada'"
      ]
     },
     "metadata": {},
     "output_type": "display_data"
    }
   ],
   "source": [
    "f = deutsch_function(4)\n",
    "display(f.draw())\n",
    "display(deutsch_algorithm(f))"
   ]
  },
  {
   "cell_type": "markdown",
   "id": "59a01faf",
   "metadata": {},
   "source": [
    "<div class=\"alert alert-success\"> <strong> &#x1F4DD; Atividade 6:</strong> A partir do exemplo anterior, mostre os demais resultados."
   ]
  },
  {
   "cell_type": "code",
   "execution_count": 23,
   "id": "be68af9c",
   "metadata": {},
   "outputs": [
    {
     "data": {
      "text/html": [
       "<pre style=\"word-wrap: normal;white-space: pre;background: #fff0;line-height: 1.1;font-family: &quot;Courier New&quot;,Courier,monospace\">     \n",
       "q_0: \n",
       "     \n",
       "q_1: \n",
       "     </pre>"
      ],
      "text/plain": [
       "     \n",
       "q_0: \n",
       "     \n",
       "q_1: \n",
       "     "
      ]
     },
     "metadata": {},
     "output_type": "display_data"
    },
    {
     "name": "stdout",
     "output_type": "stream",
     "text": [
      "Resultados medidos: ['0']\n",
      "Resultado: constante\n"
     ]
    }
   ],
   "source": [
    "#Coloque seu código aqui\n",
    "f1 = deutsch_function(1)\n",
    "display(f1.draw())\n",
    "print(\"Resultado:\", deutsch_algorithm(f1))"
   ]
  },
  {
   "cell_type": "code",
   "execution_count": 24,
   "id": "ff60ee86",
   "metadata": {},
   "outputs": [
    {
     "data": {
      "text/html": [
       "<pre style=\"word-wrap: normal;white-space: pre;background: #fff0;line-height: 1.1;font-family: &quot;Courier New&quot;,Courier,monospace\">          \n",
       "q_0: ─────\n",
       "     ┌───┐\n",
       "q_1: ┤ X ├\n",
       "     └───┘</pre>"
      ],
      "text/plain": [
       "          \n",
       "q_0: ─────\n",
       "     ┌───┐\n",
       "q_1: ┤ X ├\n",
       "     └───┘"
      ]
     },
     "metadata": {},
     "output_type": "display_data"
    },
    {
     "name": "stdout",
     "output_type": "stream",
     "text": [
      "Resultados medidos: ['0']\n",
      "Resultado: constante\n"
     ]
    }
   ],
   "source": [
    "#Coloque seu código aqui\n",
    "f2 = deutsch_function(2)\n",
    "display(f2.draw())\n",
    "print(\"Resultado:\", deutsch_algorithm(f2))"
   ]
  },
  {
   "cell_type": "code",
   "execution_count": 25,
   "id": "13b32e9f",
   "metadata": {},
   "outputs": [
    {
     "data": {
      "text/html": [
       "<pre style=\"word-wrap: normal;white-space: pre;background: #fff0;line-height: 1.1;font-family: &quot;Courier New&quot;,Courier,monospace\">          \n",
       "q_0: ──■──\n",
       "     ┌─┴─┐\n",
       "q_1: ┤ X ├\n",
       "     └───┘</pre>"
      ],
      "text/plain": [
       "          \n",
       "q_0: ──■──\n",
       "     ┌─┴─┐\n",
       "q_1: ┤ X ├\n",
       "     └───┘"
      ]
     },
     "metadata": {},
     "output_type": "display_data"
    },
    {
     "name": "stdout",
     "output_type": "stream",
     "text": [
      "Resultados medidos: ['1']\n",
      "Resultado: balanceada\n"
     ]
    }
   ],
   "source": [
    "#Coloque seu código aqui\n",
    "f3 = deutsch_function(3)\n",
    "display(f3.draw())\n",
    "print(\"Resultado:\", deutsch_algorithm(f3))"
   ]
  },
  {
   "cell_type": "markdown",
   "id": "bdd5c43a",
   "metadata": {},
   "source": [
    "### Conclusão do Algoritmo\n",
    "\n",
    "Em um computador clássico, determinar se uma função é constante ou balanceada requer várias consultas à função oracular — no mínimo duas e possivelmente mais, dependendo do número de entradas possíveis. O Algoritmo de Deutsch, no entanto, consegue determinar essa propriedade com uma única consulta (sobre um único bit de entrada) demonstrando uma eficiência significativamente maior em um cenário quântico."
   ]
  },
  {
   "cell_type": "markdown",
   "id": "58c5e666",
   "metadata": {},
   "source": [
    "<div class=\"alert alert-success\"> <strong> &#x1F4DD; Atividade 7:</strong> Expansão do Algoritmo de Deutsch\n",
    "    \n",
    "Este exercício tem como objetivo explorar a adaptação do Algoritmo de Deutsch para funções oraculares que operam com um número maior de entradas e saídas, permitindo investigar como diferentes configurações afetam a eficácia do algoritmo em identificar funções constantes e balanceadas.\n",
    "\n",
    "Descrição do Exercício\n",
    "    \n",
    "1. Modificação do Número de Qubits de Entrada:\n",
    "    \n",
    "    Parte A: Modifique a função deutsch_function para criar uma função oracular que aceite dois qubits de entrada em vez de um. Implemente duas funções oraculares:\n",
    "\n",
    "      Uma função que seja constante (por exemplo, sempre retorna 0 independentemente das entradas).\n",
    "\n",
    "      Uma função que seja balanceada (por exemplo, retorna 0 para metade das combinações de entrada e 1 para a outra metade).\n",
    "\n",
    "2. Implementação e Teste:\n",
    " \n",
    "    Parte B: Utilize a função compile_circuit modificada para incluir dois qubits de entrada e revise o código do algoritmo para lidar com essa nova configuração.\n",
    "    \n",
    "    Parte C: Execute o algoritmo com as novas funções oraculares e verifique se o algoritmo pode ainda determinar corretamente se a função é constante ou balanceada.  \n",
    "      \n",
    "3. Análise dos Resultados:\n",
    "    \n",
    "    Parte D: Analise e discuta os resultados. O algoritmo foi capaz de identificar corretamente a natureza das funções oraculares? Há alguma limitação observada com o aumento do número de qubits?\n"
   ]
  },
  {
   "cell_type": "markdown",
   "id": "6532883d",
   "metadata": {},
   "source": [
    "#### Orientações para a implementação"
   ]
  },
  {
   "cell_type": "code",
   "execution_count": 29,
   "id": "6d2cb9e9",
   "metadata": {},
   "outputs": [],
   "source": [
    "# Você deverá entender todos os códigos anteriores para poder completar este exercício.\n",
    "\n",
    "from qiskit import QuantumCircuit\n",
    "\n",
    "def expanded_deutsch_function(case: int) -> QuantumCircuit:\n",
    "    if case not in [1, 2]:\n",
    "        raise ValueError(\"case deve ser 1 (constante) ou 2 (balanceada)\")\n",
    "\n",
    "    qc = QuantumCircuit(3)\n",
    "\n",
    "    if case == 1:\n",
    "        pass\n",
    "    elif case == 2:\n",
    "        qc.cx(0, 2)\n",
    "        qc.cx(1, 2)\n",
    "\n",
    "    return qc\n",
    "\n",
    "# Você precisará ajustar a função compile_circuit para lidar com 3 qubits no total"
   ]
  },
  {
   "cell_type": "code",
   "execution_count": 30,
   "id": "71c6a863-b827-45fb-9170-d74c685c5571",
   "metadata": {},
   "outputs": [],
   "source": [
    "def compile_circuit_n(function: QuantumCircuit) -> QuantumCircuit:\n",
    "    n = function.num_qubits - 1  \n",
    "\n",
    "    qc = QuantumCircuit(n + 1, n)\n",
    "    qc.x(n)                     \n",
    "    qc.h(range(n + 1))          \n",
    "\n",
    "    qc.barrier()\n",
    "    qc.compose(function, inplace=True)\n",
    "    qc.barrier()\n",
    "\n",
    "    qc.h(range(n))              \n",
    "    qc.measure(range(n), range(n))\n",
    "    return qc"
   ]
  },
  {
   "cell_type": "code",
   "execution_count": 31,
   "id": "1d3b13d2",
   "metadata": {},
   "outputs": [],
   "source": [
    "def deutsch_algorithm_n(function: QuantumCircuit) -> str:\n",
    "    qc = compile_circuit_n(function)\n",
    "    result = AerSimulator().run(qc, shots=1, memory=True).result()\n",
    "    resultado = result.get_memory()[0]  \n",
    "    print(\"Medição:\", resultado)\n",
    "    return \"constante\" if set(resultado) == {\"0\"} else \"balanceada\""
   ]
  },
  {
   "cell_type": "code",
   "execution_count": 32,
   "id": "712718ea",
   "metadata": {},
   "outputs": [
    {
     "name": "stdout",
     "output_type": "stream",
     "text": [
      "Circuito constante:\n",
      "     \n",
      "q_0: \n",
      "     \n",
      "q_1: \n",
      "     \n",
      "q_2: \n",
      "     \n",
      "Medição: 00\n",
      "Resultado: constante\n"
     ]
    }
   ],
   "source": [
    "f_const = expanded_deutsch_function(1)\n",
    "print(\"Circuito constante:\")\n",
    "print(f_const.draw())\n",
    "print(\"Resultado:\", deutsch_algorithm_n(f_const))"
   ]
  },
  {
   "cell_type": "code",
   "execution_count": 33,
   "id": "2ddf8755",
   "metadata": {},
   "outputs": [
    {
     "name": "stdout",
     "output_type": "stream",
     "text": [
      "Circuito balanceado:\n",
      "               \n",
      "q_0: ──■───────\n",
      "       │       \n",
      "q_1: ──┼────■──\n",
      "     ┌─┴─┐┌─┴─┐\n",
      "q_2: ┤ X ├┤ X ├\n",
      "     └───┘└───┘\n",
      "Medição: 11\n",
      "Resultado: balanceada\n"
     ]
    }
   ],
   "source": [
    "f_bal = expanded_deutsch_function(2)\n",
    "print(\"Circuito balanceado:\")\n",
    "print(f_bal.draw())\n",
    "print(\"Resultado:\", deutsch_algorithm_n(f_bal))"
   ]
  }
 ],
 "metadata": {
  "kernelspec": {
   "display_name": "venv",
   "language": "python",
   "name": "python3"
  },
  "language_info": {
   "codemirror_mode": {
    "name": "ipython",
    "version": 3
   },
   "file_extension": ".py",
   "mimetype": "text/x-python",
   "name": "python",
   "nbconvert_exporter": "python",
   "pygments_lexer": "ipython3",
   "version": "3.12.9"
  }
 },
 "nbformat": 4,
 "nbformat_minor": 5
}
