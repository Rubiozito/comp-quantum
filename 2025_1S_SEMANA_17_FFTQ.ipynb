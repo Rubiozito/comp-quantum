{
 "cells": [
  {
   "cell_type": "markdown",
   "id": "a0f9fc65",
   "metadata": {},
   "source": [
    "<img src= \"https://maua.br/images/logo-IMT.png\" width=250>"
   ]
  },
  {
   "cell_type": "markdown",
   "id": "cf4b175c",
   "metadata": {},
   "source": [
    "#  <center> <font color=#023e8a>  **ECM797: Introdução à Computação Quântica** <center>\n",
    " <center> Prof. Sandro Martini <center>\n",
    "\n",
    "## <center>  Semana 17: Qiskit - **Multiplicações usando a Transformada de Fourier Quântica**"
   ]
  },
  {
   "cell_type": "markdown",
   "id": "edccda02",
   "metadata": {},
   "source": [
    "## Nome: Rafael Rubio"
   ]
  },
  {
   "cell_type": "markdown",
   "id": "3d41bd72",
   "metadata": {},
   "source": [
    "## Objetivos\n",
    "\n",
    "- Entender como a Transformada de Fourier Quântica pode ser usada para multiplicar dois números."
   ]
  },
  {
   "cell_type": "markdown",
   "id": "bab19382",
   "metadata": {},
   "source": [
    "# Introdução\n",
    "\n",
    "Neste notebook, vamos explorar a implementação de multiplicação quântica com o Qiskit. Em computadores clássicos, a multiplicação é feita por meio de circuitos digitais chamados multiplicadores binários. Em computadores quânticos, utilizamos diferentes abordagens, como a Transformada de Fourier Quântica (*Quantum Fourier Transfor*, QFT).\n",
    "\n",
    "Para entender a QFT, é útil compará-la com a Transformada Rápida de Fourier (FFT) clássica. A FFT é um algoritmo eficiente para computar a Transformada de Fourier Discreta (DFT), que transforma uma sequência de números em uma soma de funções sinusoidais. A FFT é amplamente utilizada em processamento de sinais, análise de imagem e resolução de equações diferenciais.\n",
    "\n",
    "A QFT é a versão quântica da FFT e desempenha um papel crucial em muitos algoritmos quânticos, incluindo a fatoração de números inteiros e a multiplicação de números. A QFT é constituída por uma série de operações que transformam o estado quântico de entrada em um estado quântico que representa a transformada de Fourier dos coeficientes de entrada. \n",
    "\n",
    "## Transformada de Fourier Quântica (QFT)\n",
    "\n",
    "A Transformada de Fourier Quântica (QFT) em 𝑛 qubits é a operação:\n",
    "\n",
    "$$\n",
    "|j\\rangle \\mapsto \\frac{1}{2^{n / 2}} \\sum_{k=0}^{2^n-1} e^{2 \\pi i j k / 2^n}|k\\rangle\n",
    "$$\n",
    "\n",
    "O circuito que implementa essa transformação pode ser realizado usando portas de Hadamard em cada qubit, uma série de portas controladas-U1 (ou Z, dependendo da fase) e uma camada de portas Swap. A camada de portas Swap pode, em princípio, ser dispensada se a QFT aparecer no final do circuito, pois então a reordenação pode ser feita classicamente. \n",
    "\n",
    "### Diagrama de Circuito QFT:\n"
   ]
  },
  {
   "cell_type": "markdown",
   "id": "5c5fcd1a",
   "metadata": {},
   "source": [
    "![FIG](https://miro.medium.com/v2/resize:fit:1400/format:webp/1*LKcMiuZgHrApIa9M2qVePg.png)"
   ]
  },
  {
   "cell_type": "markdown",
   "id": "ff989f9a",
   "metadata": {},
   "source": [
    "### Explicação do Circuito:\n",
    "\n",
    "1. **Qubits de Entrada**: O circuito QFT recebe qubits em um estado de superposição ou um estado específico de entrada.\n",
    "\n",
    "2. **Portas Quânticas**: A QFT consiste em uma série de portas Hadamard (H) e portas de fase controladas (CRk), que transformam o estado dos qubits.\n",
    "\n",
    "3. **Qubits de Saída**: O estado de saída do circuito QFT é uma superposição dos estados de entrada, com coeficientes de fase ajustados conforme a transformada de Fourier.\n",
    "\n",
    "O que entra no circuito são os qubits representando um estado de entrada, por exemplo,  ∣x⟩. O que sai é a transformada de Fourier desse estado, ∣x~⟩, que codifica as frequências de Fourier dos coeficientes de entrada."
   ]
  },
  {
   "cell_type": "markdown",
   "id": "f9269787",
   "metadata": {},
   "source": [
    "### Como a QFT realiza a multiplicação de dois números"
   ]
  },
  {
   "cell_type": "markdown",
   "id": "d354efaf",
   "metadata": {},
   "source": [
    "1. **Codificação dos Operandos**:\n",
    "\n",
    "Os dois números a serem multiplicados são codificados em qubits. Por exemplo, se quisermos multiplicar 2 e 3, representamos 2 como 10 em binário e 3 como 11 em binário.\n",
    "\n",
    "2. **Aplicação da QFT nos Operandos**:\n",
    "\n",
    "A QFT é aplicada aos qubits que representam os operandos. Esta etapa transforma os números binários em seus correspondentes no domínio da frequência quântica.\n",
    "\n",
    "3. **Realização de Somas no Domínio da Frequência**:\n",
    "\n",
    "No domínio da frequência, as operações de adição são realizadas. A QFT transforma a multiplicação no domínio do tempo em uma série de somas no domínio da frequência, que é uma operação mais simples de ser realizada quânticamente.\n",
    "\n",
    "4. **Aplicação da QFT Inversa (QFT†)**:\n",
    "\n",
    "Após a realização das somas, aplicamos a QFT inversa para transformar os resultados de volta para o domínio do tempo. Esta etapa converte as somas realizadas no domínio da frequência de volta em uma multiplicação no domínio do tempo.\n",
    "\n",
    "5. **Medida dos Qubits de Saída**:\n",
    "\n",
    "Os qubits que armazenam o resultado final são medidos, e o resultado da multiplicação é extraído dos bits clássicos."
   ]
  },
  {
   "cell_type": "markdown",
   "id": "379f2498",
   "metadata": {},
   "source": [
    "### Exemplo Prático: Multiplicação de 2 por 3\n",
    "\n",
    "Vamos implementar um exemplo prático onde multiplicamos 2 por 3 usando Qiskit."
   ]
  },
  {
   "cell_type": "markdown",
   "id": "a99c7ea9",
   "metadata": {},
   "source": [
    "**Passo 1**: Inicializar os Registradores e o Circuito Quântico\n",
    "\n",
    "Vamos configurar os registradores quânticos e clássicos. Usaremos 8 qubits e 4 bits clássicos:"
   ]
  },
  {
   "cell_type": "code",
   "execution_count": 25,
   "id": "229ad287",
   "metadata": {},
   "outputs": [],
   "source": [
    "from qiskit import QuantumCircuit, QuantumRegister, ClassicalRegister\n",
    "from qiskit.circuit.library import RGQFTMultiplier\n",
    "from qiskit import transpile\n",
    "from qiskit_aer import Aer\n",
    "\n",
    "# Definindo os registros quânticos e clássicos\n",
    "q = QuantumRegister(8, 'q')\n",
    "c = ClassicalRegister(4, 'c')\n",
    "circuit = QuantumCircuit(q, c)"
   ]
  },
  {
   "cell_type": "markdown",
   "id": "f5c0fe14",
   "metadata": {},
   "source": [
    "**Passo 2**: Codificar os Valores nos Operandos\n",
    "\n",
    "Codificamos os valores dos operandos nos qubits apropriados:"
   ]
  },
  {
   "cell_type": "code",
   "execution_count": 26,
   "id": "4fb2d1f2",
   "metadata": {},
   "outputs": [
    {
     "data": {
      "text/plain": [
       "<qiskit.circuit.instructionset.InstructionSet at 0x22d747ad1e0>"
      ]
     },
     "execution_count": 26,
     "metadata": {},
     "output_type": "execute_result"
    }
   ],
   "source": [
    "# Definindo os operandos A = 10 (binário '10') e B = 11 (binário '11')\n",
    "circuit.x(q[1])  # A\n",
    "circuit.x(q[2])  # B\n",
    "circuit.x(q[3])  # B"
   ]
  },
  {
   "cell_type": "markdown",
   "id": "ab01a481",
   "metadata": {},
   "source": [
    "**Explicação**:\n",
    "\n",
    "O operador `circuit.x(q[n])` aplica a porta X (NOT) ao qubit n, mudando seu estado de 0 para 1."
   ]
  },
  {
   "cell_type": "markdown",
   "id": "b96185c7",
   "metadata": {},
   "source": [
    "**Passo 3**: Criar o Circuito de Multiplicação QFT\n",
    "\n",
    "Usamos o circuito RGQFTMultiplier para realizar a multiplicação"
   ]
  },
  {
   "cell_type": "code",
   "execution_count": 27,
   "id": "05307111",
   "metadata": {},
   "outputs": [],
   "source": [
    "# Adicionando o multiplicador RGQFT ao circuito\n",
    "circuit1 = RGQFTMultiplier(num_state_qubits=2, num_result_qubits=4)\n",
    "circuit = circuit.compose(circuit1)"
   ]
  },
  {
   "cell_type": "markdown",
   "id": "36e055a3",
   "metadata": {},
   "source": [
    "**Explicação**:\n",
    "\n",
    "O RGQFTMultiplier é uma implementação de um multiplicador quântico que utiliza a QFT."
   ]
  },
  {
   "cell_type": "markdown",
   "id": "209e1213",
   "metadata": {},
   "source": [
    "**Passo 4**: Medir os Qubits de Saída\n",
    "\n",
    "Medimos os qubits que armazenam o resultado da multiplicação:"
   ]
  },
  {
   "cell_type": "code",
   "execution_count": 28,
   "id": "780c6be9",
   "metadata": {},
   "outputs": [
    {
     "data": {
      "text/html": [
       "<pre style=\"word-wrap: normal;white-space: pre;background: #fff0;line-height: 1.1;font-family: &quot;Courier New&quot;,Courier,monospace\">          ┌──────────────────┐            \n",
       "q_0: ─────┤0                 ├────────────\n",
       "     ┌───┐│                  │            \n",
       "q_1: ┤ X ├┤1                 ├────────────\n",
       "     ├───┤│                  │            \n",
       "q_2: ┤ X ├┤2                 ├────────────\n",
       "     ├───┤│                  │            \n",
       "q_3: ┤ X ├┤3                 ├────────────\n",
       "     └───┘│  RGQFTMultiplier │┌─┐         \n",
       "q_4: ─────┤4                 ├┤M├─────────\n",
       "          │                  │└╥┘┌─┐      \n",
       "q_5: ─────┤5                 ├─╫─┤M├──────\n",
       "          │                  │ ║ └╥┘┌─┐   \n",
       "q_6: ─────┤6                 ├─╫──╫─┤M├───\n",
       "          │                  │ ║  ║ └╥┘┌─┐\n",
       "q_7: ─────┤7                 ├─╫──╫──╫─┤M├\n",
       "          └──────────────────┘ ║  ║  ║ └╥┘\n",
       "c: 4/══════════════════════════╩══╩══╩══╩═\n",
       "                               0  1  2  3 </pre>"
      ],
      "text/plain": [
       "          ┌──────────────────┐            \n",
       "q_0: ─────┤0                 ├────────────\n",
       "     ┌───┐│                  │            \n",
       "q_1: ┤ X ├┤1                 ├────────────\n",
       "     ├───┤│                  │            \n",
       "q_2: ┤ X ├┤2                 ├────────────\n",
       "     ├───┤│                  │            \n",
       "q_3: ┤ X ├┤3                 ├────────────\n",
       "     └───┘│  RGQFTMultiplier │┌─┐         \n",
       "q_4: ─────┤4                 ├┤M├─────────\n",
       "          │                  │└╥┘┌─┐      \n",
       "q_5: ─────┤5                 ├─╫─┤M├──────\n",
       "          │                  │ ║ └╥┘┌─┐   \n",
       "q_6: ─────┤6                 ├─╫──╫─┤M├───\n",
       "          │                  │ ║  ║ └╥┘┌─┐\n",
       "q_7: ─────┤7                 ├─╫──╫──╫─┤M├\n",
       "          └──────────────────┘ ║  ║  ║ └╥┘\n",
       "c: 4/══════════════════════════╩══╩══╩══╩═\n",
       "                               0  1  2  3 "
      ]
     },
     "metadata": {},
     "output_type": "display_data"
    }
   ],
   "source": [
    "# Medindo os qubits de resultado\n",
    "circuit.measure(q[4], c[0])\n",
    "circuit.measure(q[5], c[1])\n",
    "circuit.measure(q[6], c[2])\n",
    "circuit.measure(q[7], c[3])\n",
    "\n",
    "display(circuit.draw(output='text'))"
   ]
  },
  {
   "cell_type": "markdown",
   "id": "50b8039e",
   "metadata": {},
   "source": [
    "**Explicação**:\n",
    "\n",
    "A operação `circuit.measure(q[n], c[m])` mede o qubit n e armazena o resultado no bit clássico m."
   ]
  },
  {
   "cell_type": "markdown",
   "id": "8bd45f5e",
   "metadata": {},
   "source": [
    "**Passo 5**: Executar o Circuito e Obter os Resultados\n",
    "\n",
    "Enviamos o circuito para um simulador quântico e obtemos os resultados:"
   ]
  },
  {
   "cell_type": "code",
   "execution_count": 29,
   "id": "d031c1ba",
   "metadata": {},
   "outputs": [
    {
     "name": "stdout",
     "output_type": "stream",
     "text": [
      "2*3\n",
      "----\n",
      "{'0110': 2000}\n"
     ]
    }
   ],
   "source": [
    "# Escolhendo o backend\n",
    "backend = Aer.get_backend('qasm_simulator')\n",
    "\n",
    "# Otimizando o circuito para o backend escolhido\n",
    "transpiled_circuit = transpile(circuit, backend)\n",
    "\n",
    "# Executando o circuito otimizado no backend\n",
    "job = backend.run(transpiled_circuit, shots=2000)\n",
    "\n",
    "# Obtendo o resultado do trabalho executado\n",
    "result = job.result()\n",
    "\n",
    "# Obtendo as contagens das medições\n",
    "counts = result.get_counts()\n",
    "\n",
    "print('2*3')\n",
    "print('----')\n",
    "print(counts)"
   ]
  },
  {
   "cell_type": "markdown",
   "id": "040bb859",
   "metadata": {},
   "source": [
    "**Explicação**:\n",
    "\n",
    "Utilizamos o simulador qasm_simulator para executar o circuito e obtemos as contagens das medições. Observe que o número binário `0110`, corresponde ao número `6`em decimal."
   ]
  },
  {
   "cell_type": "markdown",
   "id": "3e7365fc",
   "metadata": {},
   "source": [
    "<div class=\"alert alert-success\"> <strong> &#x1F4DD; Atividade 1:</strong>  Altere os valores dos operandos para outros números e observe como o circuito se comporta. Por exemplo, tente multiplicar 3×4 ou 5×6."
   ]
  },
  {
   "cell_type": "code",
   "execution_count": 30,
   "id": "32aa6e9b",
   "metadata": {},
   "outputs": [
    {
     "data": {
      "text/html": [
       "<pre style=\"word-wrap: normal;white-space: pre;background: #fff0;line-height: 1.1;font-family: &quot;Courier New&quot;,Courier,monospace\">      ┌───┐┌───────────────────┐                  \n",
       " q_0: ┤ X ├┤0                  ├──────────────────\n",
       "      └───┘│                   │                  \n",
       " q_1: ─────┤1                  ├──────────────────\n",
       "      ┌───┐│                   │                  \n",
       " q_2: ┤ X ├┤2                  ├──────────────────\n",
       "      └───┘│                   │                  \n",
       " q_3: ─────┤3                  ├──────────────────\n",
       "      ┌───┐│                   │                  \n",
       " q_4: ┤ X ├┤4                  ├──────────────────\n",
       "      ├───┤│                   │                  \n",
       " q_5: ┤ X ├┤5                  ├──────────────────\n",
       "      └───┘│   RGQFTMultiplier │┌─┐               \n",
       " q_6: ─────┤6                  ├┤M├───────────────\n",
       "           │                   │└╥┘┌─┐            \n",
       " q_7: ─────┤7                  ├─╫─┤M├────────────\n",
       "           │                   │ ║ └╥┘┌─┐         \n",
       " q_8: ─────┤8                  ├─╫──╫─┤M├─────────\n",
       "           │                   │ ║  ║ └╥┘┌─┐      \n",
       " q_9: ─────┤9                  ├─╫──╫──╫─┤M├──────\n",
       "           │                   │ ║  ║  ║ └╥┘┌─┐   \n",
       "q_10: ─────┤10                 ├─╫──╫──╫──╫─┤M├───\n",
       "           │                   │ ║  ║  ║  ║ └╥┘┌─┐\n",
       "q_11: ─────┤11                 ├─╫──╫──╫──╫──╫─┤M├\n",
       "           └───────────────────┘ ║  ║  ║  ║  ║ └╥┘\n",
       " c: 6/═══════════════════════════╩══╩══╩══╩══╩══╩═\n",
       "                                 0  1  2  3  4  5 </pre>"
      ],
      "text/plain": [
       "      ┌───┐┌───────────────────┐                  \n",
       " q_0: ┤ X ├┤0                  ├──────────────────\n",
       "      └───┘│                   │                  \n",
       " q_1: ─────┤1                  ├──────────────────\n",
       "      ┌───┐│                   │                  \n",
       " q_2: ┤ X ├┤2                  ├──────────────────\n",
       "      └───┘│                   │                  \n",
       " q_3: ─────┤3                  ├──────────────────\n",
       "      ┌───┐│                   │                  \n",
       " q_4: ┤ X ├┤4                  ├──────────────────\n",
       "      ├───┤│                   │                  \n",
       " q_5: ┤ X ├┤5                  ├──────────────────\n",
       "      └───┘│   RGQFTMultiplier │┌─┐               \n",
       " q_6: ─────┤6                  ├┤M├───────────────\n",
       "           │                   │└╥┘┌─┐            \n",
       " q_7: ─────┤7                  ├─╫─┤M├────────────\n",
       "           │                   │ ║ └╥┘┌─┐         \n",
       " q_8: ─────┤8                  ├─╫──╫─┤M├─────────\n",
       "           │                   │ ║  ║ └╥┘┌─┐      \n",
       " q_9: ─────┤9                  ├─╫──╫──╫─┤M├──────\n",
       "           │                   │ ║  ║  ║ └╥┘┌─┐   \n",
       "q_10: ─────┤10                 ├─╫──╫──╫──╫─┤M├───\n",
       "           │                   │ ║  ║  ║  ║ └╥┘┌─┐\n",
       "q_11: ─────┤11                 ├─╫──╫──╫──╫──╫─┤M├\n",
       "           └───────────────────┘ ║  ║  ║  ║  ║ └╥┘\n",
       " c: 6/═══════════════════════════╩══╩══╩══╩══╩══╩═\n",
       "                                 0  1  2  3  4  5 "
      ]
     },
     "metadata": {},
     "output_type": "display_data"
    }
   ],
   "source": [
    "q2 = QuantumRegister(12, 'q')\n",
    "c2 = ClassicalRegister(6, 'c')\n",
    "circuit2 = QuantumCircuit(q2, c2) \n",
    "\n",
    "# A (q[0] LSB, q[1], q[2] MSB)\n",
    "circuit2.x(q2[0])\n",
    "circuit2.x(q2[2])\n",
    "\n",
    "# B (q[3] LSB, q[4], q[5] MSB)\n",
    "circuit2.x(q2[4])\n",
    "circuit2.x(q2[5]) \n",
    "\n",
    "mult = RGQFTMultiplier(num_state_qubits=3, num_result_qubits=6)\n",
    "circuit2 = circuit2.compose(mult) \n",
    "\n",
    "for i in range(6):\n",
    "    circuit2.measure(q2[6 + i], c2[i])\n",
    "\n",
    "# Visualizar o circuito\n",
    "display(circuit2.draw(output='text'))"
   ]
  },
  {
   "cell_type": "code",
   "execution_count": 31,
   "id": "c1f8987e",
   "metadata": {},
   "outputs": [
    {
     "name": "stdout",
     "output_type": "stream",
     "text": [
      "5 * 6 =\n",
      "-----\n",
      "{'011110': 2000}\n"
     ]
    }
   ],
   "source": [
    "# Passo 5: Executar o Circuito e Obter os Resultados\n",
    "backend2 = Aer.get_backend('qasm_simulator')\n",
    "transpiled2 = transpile(circuit2, backend2)\n",
    "job2 = backend2.run(transpiled2, shots=2000)\n",
    "result2 = job2.result()\n",
    "counts2 = result2.get_counts()\n",
    "\n",
    "print('5 * 6 =')\n",
    "print('-----')\n",
    "print(counts2)"
   ]
  },
  {
   "cell_type": "markdown",
   "id": "c09cf6d7",
   "metadata": {},
   "source": [
    "<div class=\"alert alert-success\"> <strong> &#x1F4DD; Atividade 2:</strong>  Descreva e explique como seria realizada a multiplicação de dois números usando portas lógicas clássicas."
   ]
  },
  {
   "cell_type": "markdown",
   "id": "6add7bd6",
   "metadata": {},
   "source": [
    "**Resposta** \n",
    "A multiplicação de dois números usando portas lógicas clássicas é realizada por meio de multiplicadores binários. São utilizadas portas lógicas AND, OR e NOT para implementar a lógica da multiplicação. O processo envolve a decomposição dos números em seus bits binários e a aplicação de operações lógicas para calcular o produto bit a bit, levando em consideração o transporte de bits (carry) entre as operações. O resultado final é obtido combinando os produtos parciais gerados pelas portas AND e ajustando os bits de acordo com as regras da aritmética binária."
   ]
  }
 ],
 "metadata": {
  "kernelspec": {
   "display_name": "venv",
   "language": "python",
   "name": "python3"
  },
  "language_info": {
   "codemirror_mode": {
    "name": "ipython",
    "version": 3
   },
   "file_extension": ".py",
   "mimetype": "text/x-python",
   "name": "python",
   "nbconvert_exporter": "python",
   "pygments_lexer": "ipython3",
   "version": "3.12.9"
  }
 },
 "nbformat": 4,
 "nbformat_minor": 5
}
