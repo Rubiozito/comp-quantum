{
 "cells": [
  {
   "cell_type": "markdown",
   "id": "a0f9fc65",
   "metadata": {},
   "source": [
    "<img src= \"https://maua.br/images/logo-IMT.png\" width=250>"
   ]
  },
  {
   "cell_type": "markdown",
   "id": "cf4b175c",
   "metadata": {},
   "source": [
    "#  <center> <font color=#023e8a>  ECM797: Introdução à Computação Quântica  <center>\n",
    " <center> Prof. Sandro Martini <center>\n",
    "\n",
    "## <center>  Semana 10: Qiskit - Portas Quânticas de 2 e 3 Qubits"
   ]
  },
  {
   "cell_type": "markdown",
   "id": "edccda02",
   "metadata": {},
   "source": [
    "## Nome: Rafael Rubio"
   ]
  },
  {
   "cell_type": "markdown",
   "id": "3d41bd72",
   "metadata": {},
   "source": [
    "## Objetivos:"
   ]
  },
  {
   "cell_type": "markdown",
   "id": "260af190",
   "metadata": {},
   "source": [
    "-  Apresentar as principais portas quânticas de múltiplos qubits\n",
    "-  Simular e analisar o comportamento dessas portas utilizando Qiskit"
   ]
  },
  {
   "cell_type": "markdown",
   "id": "f60bea0c",
   "metadata": {},
   "source": [
    "## Porta CNOT\n",
    "\n",
    "### Código para analisar o comportamento da Porta CNOT"
   ]
  },
  {
   "cell_type": "code",
   "execution_count": 1,
   "id": "9faf54d9",
   "metadata": {},
   "outputs": [],
   "source": [
    "from qiskit import QuantumCircuit, transpile\n",
    "from qiskit_aer import Aer\n",
    "from qiskit.visualization import plot_histogram, array_to_latex\n",
    "\n",
    "def run_circuit(qc):\n",
    "    backend = Aer.get_backend('aer_simulator')\n",
    "    qc.save_statevector()  # Salva o statevector antes da medição\n",
    "    transpiled = transpile(qc, backend)\n",
    "    #qobj = assemble(transpiled)\n",
    "    #result = backend.run(qobj).result()\n",
    "    result = backend.run(transpiled).result()\n",
    "    statevector = result.get_statevector()\n",
    "    display(array_to_latex(statevector, prefix=\"Estado Final: \"))\n",
    "    # Para obter as contagens após uma medição, você deve adicionar medidas no circuito se necessário\n",
    "    # display(plot_histogram(result.get_counts()))"
   ]
  },
  {
   "cell_type": "markdown",
   "id": "05df8bba",
   "metadata": {},
   "source": [
    "###  Circuito com contole em ∣0⟩\n",
    "\n",
    "\n",
    "O circuito `qc1` abaixo foi inicializado com dois qubits, ambos no estado padrão ∣0⟩.  No comando `cx(0, 1)`, o primeiro argumento (`0`) indica que o qubit na posição `0` é o qubit de controle, enquanto o segundo argumento (`1`) indica que o qubit na posição `1` é o qubit alvo. Se o qubit de controle está no estado ∣1⟩, então a porta NOT é aplicada ao qubit alvo, caso contrário, o qubit alvo não é alterado."
   ]
  },
  {
   "cell_type": "code",
   "execution_count": 2,
   "id": "597988f4",
   "metadata": {},
   "outputs": [
    {
     "name": "stdout",
     "output_type": "stream",
     "text": [
      "          \n",
      "q_0: ──■──\n",
      "     ┌─┴─┐\n",
      "q_1: ┤ X ├\n",
      "     └───┘\n"
     ]
    },
    {
     "data": {
      "text/latex": [
       "$$\n",
       "Estado Final: \n",
       "\\begin{bmatrix}\n",
       "1 & 0 & 0 & 0  \\\\\n",
       " \\end{bmatrix}\n",
       "$$"
      ],
      "text/plain": [
       "<IPython.core.display.Latex object>"
      ]
     },
     "metadata": {},
     "output_type": "display_data"
    }
   ],
   "source": [
    "qc1 = QuantumCircuit(2)\n",
    "# cx(control_qubit, target_qubit)\n",
    "qc1.cx(0, 1)\n",
    "print(qc1.draw())\n",
    "run_circuit(qc1)"
   ]
  },
  {
   "cell_type": "markdown",
   "id": "7d88d0af",
   "metadata": {},
   "source": [
    "###  Interpretando o resultado\n",
    "\n",
    "O vetor de estado $\\left[\\begin{array}{llll}1 & 0 & 0 & 0\\end{array}\\right]$ é uma representação numérica do estado quântico do sistema. Cada elemento do vetor corresponde à amplitude de probabilidade de o sistema ser encontrado em um dos estados da base computacional, que são, nesta ordem, $|00\\rangle,|01\\rangle,|10\\rangle$, e $|11\\rangle$. \n",
    "\n",
    "O vetor $\\left[\\begin{array}{llll}1 & 0 & 0 & 0\\end{array}\\right]$ mostra que a probabilidade de encontrar o sistema no estado $|00\\rangle$ é $100 \\%$, enquanto as probabilidades de encontrar o sistema nos estados $|01\\rangle,|10\\rangle$, ou $|11\\rangle$ são $0 \\%$. Isso é consistente com o funcionamento da porta CNOT dado o estado inicial dos qubits."
   ]
  },
  {
   "cell_type": "markdown",
   "id": "1f32964b",
   "metadata": {},
   "source": [
    "<div class=\"alert alert-success\"> <strong> &#x1F4DD; Atividade 1:</strong> Como base no exemplo acima e na aula anterior (consulte o notebook da semana 09), inicialize o quibit de controle em $|1\\rangle$ e interprete o resultado. Dica: use uma porta NOT para preparar o estado em $|1\\rangle$."
   ]
  },
  {
   "cell_type": "code",
   "execution_count": 3,
   "id": "19bfd084",
   "metadata": {},
   "outputs": [
    {
     "name": "stdout",
     "output_type": "stream",
     "text": [
      "     ┌───┐     \n",
      "q_0: ┤ X ├──■──\n",
      "     └───┘┌─┴─┐\n",
      "q_1: ─────┤ X ├\n",
      "          └───┘\n"
     ]
    },
    {
     "data": {
      "text/latex": [
       "$$\n",
       "Estado Final: \n",
       "\\begin{bmatrix}\n",
       "0 & 0 & 0 & 1  \\\\\n",
       " \\end{bmatrix}\n",
       "$$"
      ],
      "text/plain": [
       "<IPython.core.display.Latex object>"
      ]
     },
     "metadata": {},
     "output_type": "display_data"
    }
   ],
   "source": [
    "#Coloque seu código aqui\n",
    "qc2 = QuantumCircuit(2)\n",
    "qc2.x(0)          # coloca o qubit-0 em |1⟩              (preparação)\n",
    "qc2.cx(0, 1)      # CNOT: qubit-0 é controle, qubit-1 alvo\n",
    "print(qc2.draw())\n",
    "run_circuit(qc2)"
   ]
  },
  {
   "cell_type": "markdown",
   "id": "dc913e44",
   "metadata": {},
   "source": [
    "**Interprete o resultado:** \n",
    "Ao inicializar o qubit de controle em $|1\\rangle$, a porta CNOT é ativada invertendo o valor do qubit alvo."
   ]
  },
  {
   "cell_type": "markdown",
   "id": "3e7365fc",
   "metadata": {},
   "source": [
    "<div class=\"alert alert-success\"> <strong> &#x1F4DD; Atividade 2:</strong> Como base no exemplo acima e na aula anterior (consulte o notebook da semana 09), aplique a porta de Hadamard ao qubit de controle antes da porta CNOT para coloca-lo em superposição e interprete o resultado."
   ]
  },
  {
   "cell_type": "code",
   "execution_count": 4,
   "id": "32aa6e9b",
   "metadata": {},
   "outputs": [
    {
     "name": "stdout",
     "output_type": "stream",
     "text": [
      "     ┌───┐     \n",
      "q_0: ┤ H ├──■──\n",
      "     └───┘┌─┴─┐\n",
      "q_1: ─────┤ X ├\n",
      "          └───┘\n"
     ]
    },
    {
     "data": {
      "text/latex": [
       "$$\n",
       "Estado Final: \n",
       "\\begin{bmatrix}\n",
       "\\frac{\\sqrt{2}}{2} & 0 & 0 & \\frac{\\sqrt{2}}{2}  \\\\\n",
       " \\end{bmatrix}\n",
       "$$"
      ],
      "text/plain": [
       "<IPython.core.display.Latex object>"
      ]
     },
     "metadata": {},
     "output_type": "display_data"
    }
   ],
   "source": [
    "#Coloque seu código aqui\n",
    "qc3 = QuantumCircuit(2)\n",
    "qc3.h(0)        # Hadamard no qubit-0  →  (|0⟩+|1⟩)/√2\n",
    "qc3.cx(0, 1)    # CNOT: qubit-0 é controle, qubit-1 é alvo\n",
    "print(qc3.draw())\n",
    "run_circuit(qc3)"
   ]
  },
  {
   "cell_type": "markdown",
   "id": "87b084b2",
   "metadata": {},
   "source": [
    "**Interprete o resultado:** \n",
    "Com a aplicação da porta Hadamard, o qubit de controle fica numa possibilidade de 50% de estar em $|0\\rangle$ e 50% de estar em $|1\\rangle$. Isso significa que a porta CNOT pode ou não inverter o qubit alvo, dependendo do resultado da medição do qubit de controle. Portanto, o qubit alvo pode ser encontrado em ambos os estados $|00\\rangle$ e $|11\\rangle$ com igual probabilidade."
   ]
  },
  {
   "cell_type": "markdown",
   "id": "49a469af",
   "metadata": {},
   "source": [
    "## Porta SWAP\n",
    "\n",
    "`qc.swap(0,1)` : aplica a porta SWAP nos qubits nas posições `0` e `1`. Isso significa que os estados desses dois qubits serão trocados. Por exemplo, se o qubit `0` estiver em $|1\\rangle$ e o qubit `1` em $|0\\rangle$, após a porta SWAP, o qubit `0` estará em $|0\\rangle$ e o qubit `1` em $|1\\rangle$. Considere os dois circuitos a seguir:"
   ]
  },
  {
   "cell_type": "code",
   "execution_count": 5,
   "id": "0e37fd63",
   "metadata": {},
   "outputs": [
    {
     "name": "stdout",
     "output_type": "stream",
     "text": [
      "        \n",
      "q_0: ─X─\n",
      "      │ \n",
      "q_1: ─X─\n",
      "        \n"
     ]
    },
    {
     "data": {
      "text/latex": [
       "$$\n",
       "Estado Final: \n",
       "\\begin{bmatrix}\n",
       "1 & 0 & 0 & 0  \\\\\n",
       " \\end{bmatrix}\n",
       "$$"
      ],
      "text/plain": [
       "<IPython.core.display.Latex object>"
      ]
     },
     "metadata": {},
     "output_type": "display_data"
    }
   ],
   "source": [
    "qc = QuantumCircuit(2)\n",
    "qc.swap(0, 1)\n",
    "print(qc.draw())\n",
    "run_circuit(qc)"
   ]
  },
  {
   "cell_type": "markdown",
   "id": "5eb76e3d",
   "metadata": {},
   "source": [
    "<div class=\"alert alert-success\"> <strong> &#x1F4DD; Questão!"
   ]
  },
  {
   "cell_type": "markdown",
   "id": "72996da1",
   "metadata": {},
   "source": [
    "**Interprete o resultado:** "
   ]
  },
  {
   "cell_type": "code",
   "execution_count": 6,
   "id": "cc9b582d",
   "metadata": {},
   "outputs": [
    {
     "name": "stdout",
     "output_type": "stream",
     "text": [
      "     ┌───┐   \n",
      "q_0: ┤ X ├─X─\n",
      "     └───┘ │ \n",
      "q_1: ──────X─\n",
      "             \n"
     ]
    },
    {
     "data": {
      "text/latex": [
       "$$\n",
       "Estado Final: \n",
       "\\begin{bmatrix}\n",
       "0 & 1 & 0 & 0  \\\\\n",
       " \\end{bmatrix}\n",
       "$$"
      ],
      "text/plain": [
       "<IPython.core.display.Latex object>"
      ]
     },
     "metadata": {},
     "output_type": "display_data"
    }
   ],
   "source": [
    "qc = QuantumCircuit(2)\n",
    "qc.x(0)\n",
    "qc.swap(0, 1)\n",
    "print(qc.draw())\n",
    "run_circuit(qc)"
   ]
  },
  {
   "cell_type": "markdown",
   "id": "9cec9f08",
   "metadata": {},
   "source": [
    "<div class=\"alert alert-success\"> <strong> &#x1F4DD; Questão!"
   ]
  },
  {
   "cell_type": "markdown",
   "id": "2310c029",
   "metadata": {},
   "source": [
    "**Interprete o resultado:** "
   ]
  },
  {
   "cell_type": "markdown",
   "id": "5daf5aa4",
   "metadata": {},
   "source": [
    "## Porta Toffoli ou CCNOT\n",
    "\n",
    "### Código para analisar o comportamento da Porta CCNOT:"
   ]
  },
  {
   "cell_type": "code",
   "execution_count": 7,
   "id": "e8b86a3c",
   "metadata": {},
   "outputs": [
    {
     "name": "stdout",
     "output_type": "stream",
     "text": [
      "          \n",
      "q_0: ──■──\n",
      "       │  \n",
      "q_1: ──■──\n",
      "     ┌─┴─┐\n",
      "q_2: ┤ X ├\n",
      "     └───┘\n"
     ]
    },
    {
     "data": {
      "text/latex": [
       "$$\n",
       "Estado Final: \n",
       "\\begin{bmatrix}\n",
       "1 & 0 & 0 & 0 & 0 & 0 & 0 & 0  \\\\\n",
       " \\end{bmatrix}\n",
       "$$"
      ],
      "text/plain": [
       "<IPython.core.display.Latex object>"
      ]
     },
     "metadata": {},
     "output_type": "display_data"
    }
   ],
   "source": [
    "def run_circuit_and_show_state(cic_ccnot):\n",
    "    \"\"\"Executa o circuito quântico e exibe o vetor de estado final.\"\"\"\n",
    "    # Configura o backend do simulador\n",
    "    backend = Aer.get_backend('aer_simulator')\n",
    "    \n",
    "    # Prepara o circuito para salvar o vetor de estado\n",
    "    cic_ccnot.save_statevector()\n",
    "    \n",
    "    # Transpila o circuito para o backend\n",
    "    transpiled_circuit = transpile(cic_ccnot, backend)\n",
    "    \n",
    "    \n",
    "    # Executa o circuito no simulador\n",
    "    result = backend.run(transpiled_circuit).result()\n",
    "    \n",
    "    # Obtém e exibe o vetor de estado resultante\n",
    "    statevector = result.get_statevector()\n",
    "    display(array_to_latex(statevector, prefix=\"Estado Final: \"))\n",
    "\n",
    "# Criação do circuito quântico\n",
    "cic_ccnot = QuantumCircuit(3)\n",
    "\n",
    "\n",
    "# Adiciona a porta Toffoli ao circuito\n",
    "# Os qubits 0 e 1 são os qubits de controle, e o qubit 2 é o qubit alvo\n",
    "cic_ccnot.ccx(0, 1, 2)\n",
    "\n",
    "# Visualização do circuito\n",
    "print(cic_ccnot.draw())\n",
    "\n",
    "\n",
    "# Execução do circuito e exibição do estado final\n",
    "run_circuit_and_show_state(cic_ccnot)"
   ]
  },
  {
   "cell_type": "markdown",
   "id": "faa1c43e",
   "metadata": {},
   "source": [
    "<div class=\"alert alert-success\"> <strong> &#x1F4DD; Atividade 3:</strong> Utilizando uma porta NOT, colque os qubibs 0 e 1 no estado  $|1\\rangle$ e execute o cicrcuito."
   ]
  },
  {
   "cell_type": "code",
   "execution_count": 8,
   "id": "b01384f6",
   "metadata": {},
   "outputs": [],
   "source": [
    "#Coloque seu código aqui"
   ]
  },
  {
   "cell_type": "markdown",
   "id": "a9129911",
   "metadata": {},
   "source": [
    "**Interprete o resultado:** "
   ]
  },
  {
   "cell_type": "markdown",
   "id": "2be30a8b-a447-411a-9554-1f1cfa24c8c0",
   "metadata": {},
   "source": [
    "<div class=\"alert alert-warning\"> <strong> &#x1F4DD; Entrega: 08/05  </strong>"
   ]
  },
  {
   "cell_type": "markdown",
   "id": "f8498b73",
   "metadata": {},
   "source": [
    "<div class=\"alert alert-success\"> <strong> &#x1F4DD; Atividade 4: Simulando Portas Lógicas Clássicas com Portas Quânticas </strong> Com os temas abordados na aula passada e nesta, crie circuitos quânticos que simulem o comportamento das seguintes  portas lógicas clássicas:\n",
    "    \n",
    "* AND\n",
    "* NAND\n",
    "* OR\n",
    "* XOR\n",
    "\n",
    "Você deverá construir os circuitos, realizar simulações para diferentes entradas e apresentar os resultados em forma de uma tabela verdade. "
   ]
  },
  {
   "cell_type": "code",
   "execution_count": null,
   "id": "cfcd533d",
   "metadata": {},
   "outputs": [],
   "source": []
  }
 ],
 "metadata": {
  "kernelspec": {
   "display_name": "venv",
   "language": "python",
   "name": "python3"
  },
  "language_info": {
   "codemirror_mode": {
    "name": "ipython",
    "version": 3
   },
   "file_extension": ".py",
   "mimetype": "text/x-python",
   "name": "python",
   "nbconvert_exporter": "python",
   "pygments_lexer": "ipython3",
   "version": "3.12.9"
  }
 },
 "nbformat": 4,
 "nbformat_minor": 5
}
